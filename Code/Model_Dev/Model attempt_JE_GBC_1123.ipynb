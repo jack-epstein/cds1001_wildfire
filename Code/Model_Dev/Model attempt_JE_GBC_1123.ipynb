{
 "cells": [
  {
   "cell_type": "code",
   "execution_count": 1,
   "metadata": {},
   "outputs": [],
   "source": [
    "#import packages\n",
    "from sklearn.ensemble import GradientBoostingClassifier\n",
    "from sklearn.metrics import accuracy_score, confusion_matrix, classification_report, mean_squared_error, roc_auc_score, roc_curve\n",
    "import xgboost as xgb"
   ]
  },
  {
   "cell_type": "code",
   "execution_count": 34,
   "metadata": {},
   "outputs": [],
   "source": [
    "#import packages\n",
    "import pandas as pd  # provides interface for interacting with tabular data\n",
    "import geopandas as gpd  # combines the capabilities of pandas and shapely for geospatial operations\n",
    "import rtree  # supports geospatial join\n",
    "import os\n",
    "import fnmatch\n",
    "import numpy as np\n",
    "import matplotlib.pyplot as plt\n",
    "import sys\n",
    "import pickle\n",
    "from shapely.ops import nearest_points\n",
    "from datetime import datetime as dt, date\n",
    "sys.path.append('/Users/jackepstein/Documents/GitHub/wildfires-1001/code/functions/')\n",
    "from modeling_functions import *\n",
    "data_dir = '/Users/jackepstein/Documents/GitHub/wildfires-1001/data'\n",
    "code_dir = '/Users/jackepstein/Documents/GitHub/wildfires-1001/code'\n",
    "model_dir = '/Users/jackepstein/Documents/GitHub/wildfires-1001/models'"
   ]
  },
  {
   "cell_type": "markdown",
   "metadata": {},
   "source": [
    "# Pull in main data frame"
   ]
  },
  {
   "cell_type": "code",
   "execution_count": 3,
   "metadata": {},
   "outputs": [],
   "source": [
    "#pull in the target data frame and weather dictionary \n",
    "#make sure to change the pkl file name if needed\n",
    "target_dict = {}\n",
    "target_df = gpd.GeoDataFrame()\n",
    "for i in np.arange(1, 3):\n",
    "    target_dict[i] = pd.read_pickle(os.path.join(data_dir, f'clean_data/target_df_final_1123_newtargets_{i}.pkl')) \n",
    "    target_df = target_df.append(target_dict[i])\n",
    "\n",
    "\n",
    "weather_dict_path = os.path.join(data_dir, 'clean_data/ERA_weather-data/ERA_rename_dictionary.pkl')"
   ]
  },
  {
   "cell_type": "code",
   "execution_count": 4,
   "metadata": {},
   "outputs": [],
   "source": [
    "#load the naming dictionary\n",
    "with open(weather_dict_path, 'rb') as handle:\n",
    "    rename_dict = pickle.load(handle)"
   ]
  },
  {
   "cell_type": "code",
   "execution_count": 5,
   "metadata": {},
   "outputs": [],
   "source": [
    "#rename the columns based on this dictionary\n",
    "target_df.rename(columns = rename_dict, inplace = True)"
   ]
  },
  {
   "cell_type": "code",
   "execution_count": 6,
   "metadata": {},
   "outputs": [],
   "source": [
    "#create lists of columns to drop and what our targets are\n",
    "non_mod_cols = ['GRID_ID','month_id','MONTH','COUNTYFP','NAME','GRID_AREA','COUNTY_ARE','COUNTY_AREA',\n",
    "                'geometry', 'adj_fire_count','adj_fire_bcount', 'Fire_area','Index','index']\n",
    "bad_features = ['hist_p_time_1m', 'total_fire_days', 'hist_p_time_1y','month_id_old']\n",
    "Y_cols = ['Y_bin', 'Y_fire_count', 'Y_fire_area_prop', 'Y_fire_class_size','Y_bin_new_fire_month',\n",
    "          'Y_max_new_fire_size_month','Y_count_new_fires_month']"
   ]
  },
  {
   "cell_type": "code",
   "execution_count": 7,
   "metadata": {},
   "outputs": [],
   "source": [
    "#turn class targets into integers\n",
    "target_df['Y_bin_new_fire_month'] = target_df['Y_bin_new_fire_month'].astype(int)\n",
    "target_df['Y_max_new_fire_size_month'] = target_df['Y_max_new_fire_size_month'].astype(int)\n",
    "target_df['Y_count_new_fires_month'] = target_df['Y_count_new_fires_month'].astype(int)"
   ]
  },
  {
   "cell_type": "markdown",
   "metadata": {},
   "source": [
    "# Split training and testing data"
   ]
  },
  {
   "cell_type": "code",
   "execution_count": 8,
   "metadata": {},
   "outputs": [],
   "source": [
    "#generate training data set\n",
    "#pre 2016\n",
    "train_data = target_df[target_df['YEAR']<=2016]\n",
    "X_train = train_data.drop('YEAR', axis = 1)\n",
    "#drop columns not used for modeling\n",
    "for y in Y_cols + non_mod_cols + bad_features:\n",
    "    try:\n",
    "        X_train.drop(y, inplace = True, axis =1)\n",
    "    except:\n",
    "        pass\n",
    "#set up target variable\n",
    "Y_train_cl = train_data[['Y_bin_new_fire_month']]\n",
    "Y_train_cl_size = train_data[['Y_max_new_fire_size_month']]\n",
    "\n",
    "#generate testing data set - same logic as above\n",
    "test_data = target_df[target_df['YEAR']>2016]\n",
    "X_test = test_data.drop('YEAR', axis = 1)\n",
    "for y in Y_cols + non_mod_cols + bad_features:\n",
    "    try:\n",
    "        X_test.drop(y, inplace = True, axis =1)\n",
    "    except:\n",
    "        pass\n",
    "Y_test_cl = test_data[['Y_bin_new_fire_month']]\n",
    "Y_test_cl_size = test_data[['Y_max_new_fire_size_month']]"
   ]
  },
  {
   "cell_type": "code",
   "execution_count": 9,
   "metadata": {},
   "outputs": [
    {
     "data": {
      "text/plain": [
       "Y_bin_new_fire_month\n",
       "0    4176\n",
       "1     576\n",
       "Name: Y_bin_new_fire_month, dtype: int64"
      ]
     },
     "execution_count": 9,
     "metadata": {},
     "output_type": "execute_result"
    }
   ],
   "source": [
    "Y_test_cl.groupby(['Y_bin_new_fire_month'])['Y_bin_new_fire_month'].count()"
   ]
  },
  {
   "cell_type": "code",
   "execution_count": 10,
   "metadata": {},
   "outputs": [
    {
     "data": {
      "text/plain": [
       "Y_max_new_fire_size_month\n",
       "0    4176\n",
       "1     298\n",
       "2     117\n",
       "3     161\n",
       "Name: Y_max_new_fire_size_month, dtype: int64"
      ]
     },
     "execution_count": 10,
     "metadata": {},
     "output_type": "execute_result"
    }
   ],
   "source": [
    "Y_test_cl_size.groupby(['Y_max_new_fire_size_month'])['Y_max_new_fire_size_month'].count()"
   ]
  },
  {
   "cell_type": "code",
   "execution_count": 11,
   "metadata": {},
   "outputs": [
    {
     "data": {
      "text/plain": [
       "0.0"
      ]
     },
     "execution_count": 11,
     "metadata": {},
     "output_type": "execute_result"
    }
   ],
   "source": [
    "#check for any null values\n",
    "\n",
    "#null vals array\n",
    "null = np.zeros(len(X_train.columns))\n",
    "\n",
    "for i in range(len(X_train.columns)):\n",
    "    null[i] = X_train.loc[X_train[X_train.columns[i]].isna()].shape[0]\n",
    "    \n",
    "np.sum(null)"
   ]
  },
  {
   "cell_type": "code",
   "execution_count": 12,
   "metadata": {},
   "outputs": [],
   "source": [
    "y_test_cl_arr = Y_test_cl.to_numpy().ravel()"
   ]
  },
  {
   "cell_type": "markdown",
   "metadata": {},
   "source": [
    "# Attempting Gradient Boosting"
   ]
  },
  {
   "cell_type": "markdown",
   "metadata": {},
   "source": [
    "## First attempt"
   ]
  },
  {
   "cell_type": "code",
   "execution_count": 13,
   "metadata": {},
   "outputs": [
    {
     "data": {
      "text/plain": [
       "GradientBoostingClassifier(max_depth=2, n_estimators=1000)"
      ]
     },
     "execution_count": 13,
     "metadata": {},
     "output_type": "execute_result"
    }
   ],
   "source": [
    "#starting with max depth=2 and 1,000 n_estimators\n",
    "n_est_lim = 1000\n",
    "gbc = GradientBoostingClassifier(n_estimators = n_est_lim, max_depth = 2)\n",
    "gbc.fit(X_train, Y_train_cl.to_numpy().ravel())"
   ]
  },
  {
   "cell_type": "code",
   "execution_count": 14,
   "metadata": {},
   "outputs": [
    {
     "name": "stdout",
     "output_type": "stream",
     "text": [
      "[[4006  170]\n",
      " [ 413  163]]\n",
      "0.6211386494252874\n",
      "              precision    recall  f1-score   support\n",
      "\n",
      "           0       0.91      0.96      0.93      4176\n",
      "           1       0.49      0.28      0.36       576\n",
      "\n",
      "    accuracy                           0.88      4752\n",
      "   macro avg       0.70      0.62      0.65      4752\n",
      "weighted avg       0.86      0.88      0.86      4752\n",
      "\n"
     ]
    }
   ],
   "source": [
    "preds_gbc = gbc.predict(X_test)\n",
    "preds_gbc_prob = gbc.predict_proba(X_test)\n",
    "\n",
    "\n",
    "#plot confusion\n",
    "print(confusion_matrix(y_test_cl_arr,preds_gbc))\n",
    "\n",
    "#get precision and recall scores\n",
    "print(roc_auc_score(y_test_cl_arr, preds_gbc))\n",
    "print(classification_report(y_test_cl_arr, preds_gbc))"
   ]
  },
  {
   "cell_type": "code",
   "execution_count": 15,
   "metadata": {},
   "outputs": [
    {
     "data": {
      "text/plain": [
       "<matplotlib.legend.Legend at 0x7f95051c0430>"
      ]
     },
     "execution_count": 15,
     "metadata": {},
     "output_type": "execute_result"
    },
    {
     "data": {
      "image/png": "[encoded data removed]",
      "text/plain": [
       "<Figure size 576x432 with 1 Axes>"
      ]
     },
     "metadata": {
      "needs_background": "light"
     },
     "output_type": "display_data"
    }
   ],
   "source": [
    "#plot seeing if we overfit\n",
    "\n",
    "#define a log loss function\n",
    "def LogLossP(Pt, Yt):\n",
    "    return -1*((Yt==1)*np.log(Pt)+(Yt==0)*np.log(1-Pt)).mean()\n",
    "\n",
    "#get the probabilities at each iteration\n",
    "p_train = gbc.staged_predict_proba(X_train)\n",
    "p_test = gbc.staged_predict_proba(X_test)\n",
    "\n",
    "#initiate lists to store log loss\n",
    "ll_train = []\n",
    "ll_test = []\n",
    "\n",
    "#loop through each calculating log loss at each iterative tree\n",
    "for p in p_train:\n",
    "    ll_train.append(LogLossP(p[:, 1], Y_train_cl.to_numpy().ravel()))\n",
    "    \n",
    "for p in p_test:\n",
    "    ll_test.append(LogLossP(p[:, 1], Y_test_cl.to_numpy().ravel()))\n",
    "    \n",
    "#plot this\n",
    "fig = plt.figure(figsize=(8,6))\n",
    "ax = fig.add_subplot(111)\n",
    "plt.plot(np.arange(1, n_est_lim + 1), ll_train, 'b-', label='Train')\n",
    "plt.plot(np.arange(1, n_est_lim + 1), ll_test, 'r-', label='Test')\n",
    "plt.title('Training and Testing Error as a Function of N-Estimators')\n",
    "plt.legend()"
   ]
  },
  {
   "cell_type": "markdown",
   "metadata": {},
   "source": [
    "## 2nd attempt"
   ]
  },
  {
   "cell_type": "code",
   "execution_count": 16,
   "metadata": {},
   "outputs": [
    {
     "data": {
      "text/plain": [
       "GradientBoostingClassifier(max_depth=2, n_estimators=200)"
      ]
     },
     "execution_count": 16,
     "metadata": {},
     "output_type": "execute_result"
    }
   ],
   "source": [
    "#starting with max depth=2 trying 200 trees\n",
    "gbc_2 = GradientBoostingClassifier(n_estimators = 200, max_depth = 2)\n",
    "gbc_2.fit(X_train, Y_train_cl.to_numpy().ravel())"
   ]
  },
  {
   "cell_type": "code",
   "execution_count": 17,
   "metadata": {},
   "outputs": [
    {
     "name": "stdout",
     "output_type": "stream",
     "text": [
      "[[4107   69]\n",
      " [ 456  120]]\n",
      "0.595905172413793\n",
      "              precision    recall  f1-score   support\n",
      "\n",
      "           0       0.90      0.98      0.94      4176\n",
      "           1       0.63      0.21      0.31       576\n",
      "\n",
      "    accuracy                           0.89      4752\n",
      "   macro avg       0.77      0.60      0.63      4752\n",
      "weighted avg       0.87      0.89      0.86      4752\n",
      "\n"
     ]
    }
   ],
   "source": [
    "#checking for fewer trees\n",
    "preds_gbc_2 = gbc_2.predict(X_test)\n",
    "preds_gbc_2_probs = gbc_2.predict_proba(X_test)\n",
    "\n",
    "#plot confusion\n",
    "print(confusion_matrix(y_test_cl_arr,preds_gbc_2))\n",
    "\n",
    "#get precision and recall scores\n",
    "print(roc_auc_score(y_test_cl_arr, preds_gbc_2))\n",
    "print(classification_report(y_test_cl_arr, preds_gbc_2))"
   ]
  },
  {
   "cell_type": "markdown",
   "metadata": {},
   "source": [
    "# Attempt with XGBoost"
   ]
  },
  {
   "cell_type": "code",
   "execution_count": 18,
   "metadata": {},
   "outputs": [
    {
     "data": {
      "text/plain": [
       "XGBClassifier(base_score=0.5, booster='gbtree', colsample_bylevel=1,\n",
       "              colsample_bynode=1, colsample_bytree=1, gamma=0, gpu_id=-1,\n",
       "              importance_type='gain', interaction_constraints='',\n",
       "              learning_rate=0.300000012, max_delta_step=0, max_depth=6,\n",
       "              min_child_weight=1, missing=nan, monotone_constraints='()',\n",
       "              n_estimators=100, n_jobs=0, num_parallel_tree=1, random_state=42,\n",
       "              reg_alpha=0, reg_lambda=1, scale_pos_weight=1, subsample=1,\n",
       "              tree_method='exact', validate_parameters=1, verbosity=None)"
      ]
     },
     "execution_count": 18,
     "metadata": {},
     "output_type": "execute_result"
    }
   ],
   "source": [
    "#binary classification\n",
    "xgb_model = xgb.XGBClassifier(objective='binary:logistic', random_state=42)\n",
    "xgb_model.fit(X_train, Y_train_cl.to_numpy().ravel())"
   ]
  },
  {
   "cell_type": "code",
   "execution_count": 19,
   "metadata": {},
   "outputs": [
    {
     "name": "stdout",
     "output_type": "stream",
     "text": [
      "[[4062  114]\n",
      " [ 467  109]]\n",
      "0.5809686302681992\n",
      "              precision    recall  f1-score   support\n",
      "\n",
      "           0       0.90      0.97      0.93      4176\n",
      "           1       0.49      0.19      0.27       576\n",
      "\n",
      "    accuracy                           0.88      4752\n",
      "   macro avg       0.69      0.58      0.60      4752\n",
      "weighted avg       0.85      0.88      0.85      4752\n",
      "\n"
     ]
    }
   ],
   "source": [
    "xgb_preds = xgb_model.predict(X_test)\n",
    "xgb_pred_pr = xgb_model.predict_proba(X_test)\n",
    "\n",
    "#plot confusion\n",
    "print(confusion_matrix(y_test_cl_arr,xgb_preds))\n",
    "\n",
    "#get precision and recall scores\n",
    "print(roc_auc_score(y_test_cl_arr, xgb_preds))\n",
    "print(classification_report(y_test_cl_arr, xgb_preds))"
   ]
  },
  {
   "cell_type": "code",
   "execution_count": 20,
   "metadata": {},
   "outputs": [
    {
     "data": {
      "text/plain": [
       "XGBClassifier(base_score=0.5, booster='gbtree', colsample_bylevel=1,\n",
       "              colsample_bynode=1, colsample_bytree=1, gamma=0, gpu_id=-1,\n",
       "              importance_type='gain', interaction_constraints='',\n",
       "              learning_rate=0.300000012, max_delta_step=0, max_depth=6,\n",
       "              min_child_weight=1, missing=nan, monotone_constraints='()',\n",
       "              n_estimators=1000, n_jobs=0, num_parallel_tree=1, random_state=42,\n",
       "              reg_alpha=0, reg_lambda=1, scale_pos_weight=1, subsample=1,\n",
       "              tree_method='exact', validate_parameters=1, verbosity=None)"
      ]
     },
     "execution_count": 20,
     "metadata": {},
     "output_type": "execute_result"
    }
   ],
   "source": [
    "#binary classification -- trying more trees\n",
    "\n",
    "xgb1000_model = xgb.XGBClassifier(objective='binary:logistic', random_state=42, n_estimators=n_est_lim)\n",
    "xgb1000_model.fit(X_train, Y_train_cl.to_numpy().ravel())"
   ]
  },
  {
   "cell_type": "code",
   "execution_count": 21,
   "metadata": {},
   "outputs": [
    {
     "name": "stdout",
     "output_type": "stream",
     "text": [
      "[[4039  137]\n",
      " [ 445  131]]\n",
      "              precision    recall  f1-score   support\n",
      "\n",
      "           0       0.90      0.97      0.93      4176\n",
      "           1       0.49      0.23      0.31       576\n",
      "\n",
      "    accuracy                           0.88      4752\n",
      "   macro avg       0.69      0.60      0.62      4752\n",
      "weighted avg       0.85      0.88      0.86      4752\n",
      "\n"
     ]
    }
   ],
   "source": [
    "xgb1000_preds = xgb1000_model.predict(X_test)\n",
    "xgb1000_pred_pr = xgb1000_model.predict_proba(X_test)\n",
    "\n",
    "#plot confusion\n",
    "print(confusion_matrix(y_test_cl_arr,xgb1000_preds))\n",
    "\n",
    "#get precision and recall scores\n",
    "print(classification_report(y_test_cl_arr, xgb1000_preds))"
   ]
  },
  {
   "cell_type": "markdown",
   "metadata": {},
   "source": [
    "## Evaluation"
   ]
  },
  {
   "cell_type": "code",
   "execution_count": 22,
   "metadata": {},
   "outputs": [],
   "source": [
    "#plot an auc curve\n",
    "auc_1000 = roc_auc_score(y_test_cl_arr,preds_gbc_prob[:,1])\n",
    "auc_200 = roc_auc_score(y_test_cl_arr,preds_gbc_2_probs[:,1])\n",
    "auc_xgb = roc_auc_score(y_test_cl_arr, xgb_pred_pr[:,1])\n",
    "auc_xgb_1000 = roc_auc_score(y_test_cl_arr, xgb1000_pred_pr[:,1])\n",
    "\n",
    "#get rocs\n",
    "fpr_1000, tpr_1000, thresh_1000 = roc_curve(y_test_cl_arr,preds_gbc_prob[:,1])\n",
    "fpr_200, tpr_200, thresh_200 = roc_curve(y_test_cl_arr,preds_gbc_2_probs[:,1])\n",
    "fpr_xgb, tpr_xgb, thresh_xgb = roc_curve(y_test_cl_arr,xgb_pred_pr[:,1])\n",
    "fpr_xgb_1000, tpr_xgb_1000, thresh_xgb_1000 = roc_curve(y_test_cl_arr, xgb1000_pred_pr[:,1])\n",
    "\n",
    "aucs = [auc_1000, auc_200, auc_xgb, auc_xgb_1000]\n",
    "fprs = [fpr_1000, fpr_200, fpr_xgb, fpr_xgb_1000]\n",
    "tprs = [tpr_1000, tpr_200, tpr_xgb, tpr_xgb_1000]\n",
    "labels = ['1000 trees', '200 trees', 'XGBoost', 'XGBoost-1K']"
   ]
  },
  {
   "cell_type": "code",
   "execution_count": 23,
   "metadata": {},
   "outputs": [
    {
     "data": {
      "image/png": "[encoded data removed]",
      "text/plain": [
       "<Figure size 576x432 with 1 Axes>"
      ]
     },
     "metadata": {
      "needs_background": "light"
     },
     "output_type": "display_data"
    }
   ],
   "source": [
    "#plot each of the 4 curves\n",
    "plt.figure(figsize=(8,6))\n",
    "for fpr, tpr, label, auc in zip(fprs, tprs, labels, aucs):\n",
    "    labauc = label+\" AUC - \"+str(round(auc,4))\n",
    "    plt.plot(fpr, tpr, label=labauc)\n",
    "    \n",
    "    \n",
    "plt.xlabel(\"fpr\")\n",
    "plt.ylabel(\"tpr\")\n",
    "plt.title(\"ROC Curves\")\n",
    "plt.legend(loc=\"lower right\")\n",
    "plt.show()    "
   ]
  },
  {
   "cell_type": "code",
   "execution_count": 24,
   "metadata": {},
   "outputs": [
    {
     "data": {
      "text/html": [
       "<div>\n",
       "<style scoped>\n",
       "    .dataframe tbody tr th:only-of-type {\n",
       "        vertical-align: middle;\n",
       "    }\n",
       "\n",
       "    .dataframe tbody tr th {\n",
       "        vertical-align: top;\n",
       "    }\n",
       "\n",
       "    .dataframe thead th {\n",
       "        text-align: right;\n",
       "    }\n",
       "</style>\n",
       "<table border=\"1\" class=\"dataframe\">\n",
       "  <thead>\n",
       "    <tr style=\"text-align: right;\">\n",
       "      <th></th>\n",
       "      <th>feature</th>\n",
       "      <th>feature_score</th>\n",
       "    </tr>\n",
       "  </thead>\n",
       "  <tbody>\n",
       "    <tr>\n",
       "      <th>66</th>\n",
       "      <td>hist_fire_area_prop_1m</td>\n",
       "      <td>0.126864</td>\n",
       "    </tr>\n",
       "    <tr>\n",
       "      <th>70</th>\n",
       "      <td>tot_area_fire_prev_1yr</td>\n",
       "      <td>0.126332</td>\n",
       "    </tr>\n",
       "    <tr>\n",
       "      <th>153</th>\n",
       "      <td>2m_tmp_18hrs_10y</td>\n",
       "      <td>0.114462</td>\n",
       "    </tr>\n",
       "    <tr>\n",
       "      <th>121</th>\n",
       "      <td>2m_tmp_18hrs_5y</td>\n",
       "      <td>0.067462</td>\n",
       "    </tr>\n",
       "    <tr>\n",
       "      <th>69</th>\n",
       "      <td>hist_fire_area_prop_10y</td>\n",
       "      <td>0.036636</td>\n",
       "    </tr>\n",
       "    <tr>\n",
       "      <th>...</th>\n",
       "      <td>...</td>\n",
       "      <td>...</td>\n",
       "    </tr>\n",
       "    <tr>\n",
       "      <th>95</th>\n",
       "      <td>leaf_low_veg_6hrs_1y</td>\n",
       "      <td>0.000000</td>\n",
       "    </tr>\n",
       "    <tr>\n",
       "      <th>128</th>\n",
       "      <td>leaf_low_veg_12hrs_5y</td>\n",
       "      <td>0.000000</td>\n",
       "    </tr>\n",
       "    <tr>\n",
       "      <th>124</th>\n",
       "      <td>leaf_high_veg_12hrs_5y</td>\n",
       "      <td>0.000000</td>\n",
       "    </tr>\n",
       "    <tr>\n",
       "      <th>96</th>\n",
       "      <td>leaf_low_veg_12hrs_1y</td>\n",
       "      <td>0.000000</td>\n",
       "    </tr>\n",
       "    <tr>\n",
       "      <th>19</th>\n",
       "      <td>POPDENSITY_MALE</td>\n",
       "      <td>0.000000</td>\n",
       "    </tr>\n",
       "  </tbody>\n",
       "</table>\n",
       "<p>170 rows × 2 columns</p>\n",
       "</div>"
      ],
      "text/plain": [
       "                     feature  feature_score\n",
       "66    hist_fire_area_prop_1m       0.126864\n",
       "70    tot_area_fire_prev_1yr       0.126332\n",
       "153         2m_tmp_18hrs_10y       0.114462\n",
       "121          2m_tmp_18hrs_5y       0.067462\n",
       "69   hist_fire_area_prop_10y       0.036636\n",
       "..                       ...            ...\n",
       "95      leaf_low_veg_6hrs_1y       0.000000\n",
       "128    leaf_low_veg_12hrs_5y       0.000000\n",
       "124   leaf_high_veg_12hrs_5y       0.000000\n",
       "96     leaf_low_veg_12hrs_1y       0.000000\n",
       "19           POPDENSITY_MALE       0.000000\n",
       "\n",
       "[170 rows x 2 columns]"
      ]
     },
     "execution_count": 24,
     "metadata": {},
     "output_type": "execute_result"
    }
   ],
   "source": [
    "features_gbc = pd.DataFrame()\n",
    "features_gbc['feature'] = X_test.columns\n",
    "features_gbc['feature_score'] = gbc.feature_importances_\n",
    "features_gbc.sort_values(by=['feature_score'], ascending=False)"
   ]
  },
  {
   "cell_type": "code",
   "execution_count": 40,
   "metadata": {},
   "outputs": [
    {
     "name": "stdout",
     "output_type": "stream",
     "text": [
      "-0.07189078282828282\n",
      "-0.07469223484848485\n",
      "-0.07563920454545454\n",
      "-0.07820391414141414\n"
     ]
    }
   ],
   "source": [
    "#get expected value scores\n",
    "ev_std_1000 = EV_binary(y_test_cl_arr,preds_gbc, V_tp = 0, V_tn = 0, C_fp = -0.1875, C_fn = -0.75)\n",
    "ev_std_200 = EV_binary(y_test_cl_arr,preds_gbc_2, V_tp = 0, V_tn = 0, C_fp = -0.1875, C_fn = -0.75)\n",
    "ev_xgb_1000 = EV_binary(y_test_cl_arr,xgb1000_preds, V_tp = 0, V_tn = 0, C_fp = -0.1875, C_fn = -0.75)\n",
    "ev_xgb_100 = EV_binary(y_test_cl_arr,xgb_preds, V_tp = 0, V_tn = 0, C_fp = -0.1875, C_fn = -0.75)\n",
    "\n",
    "\n",
    "print(ev_std_1000)\n",
    "print(ev_std_200)\n",
    "print(ev_xgb_1000)\n",
    "print(ev_xgb_100)"
   ]
  },
  {
   "cell_type": "markdown",
   "metadata": {},
   "source": [
    "## OOB Class Size"
   ]
  },
  {
   "cell_type": "code",
   "execution_count": 25,
   "metadata": {},
   "outputs": [
    {
     "name": "stdout",
     "output_type": "stream",
     "text": [
      "[[4128   17   11   20]\n",
      " [ 271   13    8    6]\n",
      " [ 108    3    3    3]\n",
      " [ 140    7    4   10]]\n",
      "              precision    recall  f1-score   support\n",
      "\n",
      "           0       0.89      0.99      0.94      4176\n",
      "           1       0.33      0.04      0.08       298\n",
      "           2       0.12      0.03      0.04       117\n",
      "           3       0.26      0.06      0.10       161\n",
      "\n",
      "    accuracy                           0.87      4752\n",
      "   macro avg       0.40      0.28      0.29      4752\n",
      "weighted avg       0.81      0.87      0.83      4752\n",
      "\n"
     ]
    }
   ],
   "source": [
    "#classifying class sizing -- no hyperparameter tuning\n",
    "gbc_size_oob = GradientBoostingClassifier().fit(X_train, Y_train_cl_size.to_numpy().ravel())\n",
    "#checking for fewer trees\n",
    "preds_gbc_oob = gbc_size_oob.predict(X_test)\n",
    "\n",
    "\n",
    "#plot confusion\n",
    "print(confusion_matrix(Y_test_cl_size.to_numpy().ravel(),preds_gbc_oob))\n",
    "\n",
    "#get precision and recall scores\n",
    "print(classification_report(Y_test_cl_size.to_numpy().ravel(), preds_gbc_oob))"
   ]
  },
  {
   "cell_type": "code",
   "execution_count": 26,
   "metadata": {},
   "outputs": [
    {
     "data": {
      "text/plain": [
       "{0: 4647, 1: 40, 2: 26, 3: 39}"
      ]
     },
     "execution_count": 26,
     "metadata": {},
     "output_type": "execute_result"
    }
   ],
   "source": [
    "unique, counts = np.unique(preds_gbc_oob, return_counts=True)\n",
    "dict(zip(unique, counts))"
   ]
  },
  {
   "cell_type": "code",
   "execution_count": 27,
   "metadata": {},
   "outputs": [
    {
     "name": "stdout",
     "output_type": "stream",
     "text": [
      "[[4142   14    5   15]\n",
      " [ 278    9    7    4]\n",
      " [ 105    4    4    4]\n",
      " [ 143    7    2    9]]\n",
      "              precision    recall  f1-score   support\n",
      "\n",
      "           0       0.89      0.99      0.94      4176\n",
      "           1       0.26      0.03      0.05       298\n",
      "           2       0.22      0.03      0.06       117\n",
      "           3       0.28      0.06      0.09       161\n",
      "\n",
      "    accuracy                           0.88      4752\n",
      "   macro avg       0.41      0.28      0.29      4752\n",
      "weighted avg       0.81      0.88      0.83      4752\n",
      "\n"
     ]
    }
   ],
   "source": [
    "#classifying class sizing -- XGBoost\n",
    "xgb_size_model = xgb.XGBClassifier(objective='multi:softprob', random_state=42)\n",
    "xgb_size_model.fit(X_train, Y_train_cl_size.to_numpy().ravel())\n",
    "\n",
    "#checking for fewer trees\n",
    "preds_xgb_size = xgb_size_model.predict(X_test)\n",
    "\n",
    "#plot confusion\n",
    "print(confusion_matrix(Y_test_cl_size.to_numpy().ravel(),preds_xgb_size))\n",
    "\n",
    "#get precision and recall scores\n",
    "print(classification_report(Y_test_cl_size.to_numpy().ravel(), preds_xgb_size))"
   ]
  },
  {
   "cell_type": "code",
   "execution_count": 28,
   "metadata": {},
   "outputs": [
    {
     "data": {
      "text/plain": [
       "{0: 4668, 1: 34, 2: 18, 3: 32}"
      ]
     },
     "execution_count": 28,
     "metadata": {},
     "output_type": "execute_result"
    }
   ],
   "source": [
    "unique_x, counts_x = np.unique(preds_xgb_size, return_counts=True)\n",
    "dict(zip(unique_x, counts_x))"
   ]
  },
  {
   "cell_type": "markdown",
   "metadata": {},
   "source": [
    "# Predicting Class Size on Only Positive Instances"
   ]
  },
  {
   "cell_type": "code",
   "execution_count": 29,
   "metadata": {},
   "outputs": [],
   "source": [
    "#limit to positives \n",
    "pos_df = target_df.loc[target_df['Y_bin_new_fire_month']==1]\n",
    "\n",
    "#generate training data set\n",
    "#pre 2016\n",
    "train_data_pos = pos_df[pos_df['YEAR']<=2016]\n",
    "X_train_pos = train_data_pos.drop('YEAR', axis = 1)\n",
    "#drop columns not used for modeling\n",
    "for y in Y_cols + non_mod_cols + bad_features:\n",
    "    try:\n",
    "        X_train_pos.drop(y, inplace = True, axis =1)\n",
    "    except:\n",
    "        pass\n",
    "#set up target variable\n",
    "Y_train_cl_size_pos = train_data_pos[['Y_max_new_fire_size_month']]\n",
    "\n",
    "#generate testing data set - same logic as above\n",
    "test_data_pos = pos_df[pos_df['YEAR']>2016]\n",
    "X_test_pos = test_data_pos.drop('YEAR', axis = 1)\n",
    "for y in Y_cols + non_mod_cols + bad_features:\n",
    "    try:\n",
    "        X_test_pos.drop(y, inplace = True, axis =1)\n",
    "    except:\n",
    "        pass\n",
    "Y_test_cl_size_pos = test_data_pos[['Y_max_new_fire_size_month']]"
   ]
  },
  {
   "cell_type": "code",
   "execution_count": 30,
   "metadata": {},
   "outputs": [],
   "source": [
    "Y_train_cl_size_pos = Y_train_cl_size_pos.subtract(1)\n",
    "Y_test_cl_size_pos = Y_test_cl_size_pos.subtract(1)"
   ]
  },
  {
   "cell_type": "code",
   "execution_count": 31,
   "metadata": {},
   "outputs": [],
   "source": [
    "#classifying class sizing -- no hyperparameter tuning\n",
    "gbc_size_pos = GradientBoostingClassifier().fit(X_train_pos, Y_train_cl_size_pos.to_numpy().ravel())\n",
    "#checking for fewer trees\n",
    "preds_gbc_pos = gbc_size_pos.predict(X_test_pos)"
   ]
  },
  {
   "cell_type": "code",
   "execution_count": 32,
   "metadata": {},
   "outputs": [
    {
     "name": "stdout",
     "output_type": "stream",
     "text": [
      "[[223  38  37]\n",
      " [ 66  22  29]\n",
      " [ 69  23  69]]\n",
      "              precision    recall  f1-score   support\n",
      "\n",
      "           0       0.62      0.75      0.68       298\n",
      "           1       0.27      0.19      0.22       117\n",
      "           2       0.51      0.43      0.47       161\n",
      "\n",
      "    accuracy                           0.55       576\n",
      "   macro avg       0.47      0.45      0.46       576\n",
      "weighted avg       0.52      0.55      0.53       576\n",
      "\n"
     ]
    }
   ],
   "source": [
    "#plot confusion\n",
    "print(confusion_matrix(Y_test_cl_size_pos.to_numpy().ravel(),preds_gbc_pos))\n",
    "\n",
    "#get precision and recall scores\n",
    "print(classification_report(Y_test_cl_size_pos.to_numpy().ravel(),preds_gbc_pos))"
   ]
  },
  {
   "cell_type": "code",
   "execution_count": 33,
   "metadata": {},
   "outputs": [],
   "source": [
    "#send best to Git \n",
    "\n",
    "gbc1_load_path = os.path.join(code_dir, 'model_dev/GBCbin_1000trees_1123JE')\n",
    "pickle.dump(gbc, open(gbc1_load_path, \"wb\"))\n",
    "\n",
    "gbc3_load_path = os.path.join(code_dir, 'model_dev/GBCsize_OOB_1123JE')\n",
    "pickle.dump(gbc_size_oob, open(gbc3_load_path, \"wb\"))"
   ]
  }
 ],
 "metadata": {
  "kernelspec": {
   "display_name": "Python 3",
   "language": "python",
   "name": "python3"
  },
  "language_info": {
   "codemirror_mode": {
    "name": "ipython",
    "version": 3
   },
   "file_extension": ".py",
   "mimetype": "text/x-python",
   "name": "python",
   "nbconvert_exporter": "python",
   "pygments_lexer": "ipython3",
   "version": "3.8.6"
  }
 },
 "nbformat": 4,
 "nbformat_minor": 4
}
