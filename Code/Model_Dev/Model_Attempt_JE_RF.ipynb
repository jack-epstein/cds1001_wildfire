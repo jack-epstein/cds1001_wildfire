{
 "cells": [
  {
   "cell_type": "code",
   "execution_count": 1,
   "metadata": {},
   "outputs": [],
   "source": [
    "#import packages\n",
    "from sklearn.ensemble import RandomForestClassifier, RandomForestRegressor\n",
    "from sklearn.metrics import accuracy_score, confusion_matrix, classification_report, mean_squared_error, roc_auc_score, roc_curve\n",
    "from sklearn.datasets import make_regression"
   ]
  },
  {
   "cell_type": "code",
   "execution_count": 2,
   "metadata": {},
   "outputs": [],
   "source": [
    "#import packages\n",
    "import pandas as pd  # provides interface for interacting with tabular data\n",
    "import geopandas as gpd  # combines the capabilities of pandas and shapely for geospatial operations\n",
    "import rtree  # supports geospatial join\n",
    "import os\n",
    "import fnmatch\n",
    "import numpy as np\n",
    "import matplotlib.pyplot as plt\n",
    "import sys\n",
    "import pickle\n",
    "from shapely.ops import nearest_points\n",
    "from datetime import datetime as dt, date\n",
    "sys.path.append('/Users/jackepstein/Documents/GitHub/wildfires-1001/code/functions/')\n",
    "data_dir = '/Users/jackepstein/Documents/GitHub/wildfires-1001/data'\n",
    "code_dir = '/Users/jackepstein/Documents/GitHub/wildfires-1001/code'"
   ]
  },
  {
   "cell_type": "markdown",
   "metadata": {},
   "source": [
    "# Pull in main data frame"
   ]
  },
  {
   "cell_type": "code",
   "execution_count": 3,
   "metadata": {},
   "outputs": [],
   "source": [
    "#pull in the target data frame and weather dictionary \n",
    "#make sure to change the pkl file name if needed\n",
    "target_dict = {}\n",
    "target_df = gpd.GeoDataFrame()\n",
    "for i in np.arange(1, 3):\n",
    "    target_dict[i] = pd.read_pickle(os.path.join(data_dir, f'clean_data/target_df_final_1123_newtargets_{i}.pkl')) \n",
    "    target_df = target_df.append(target_dict[i])\n",
    "\n",
    "\n",
    "weather_dict_path = os.path.join(data_dir, 'clean_data/ERA_weather-data/ERA_rename_dictionary.pkl')"
   ]
  },
  {
   "cell_type": "code",
   "execution_count": 4,
   "metadata": {},
   "outputs": [],
   "source": [
    "#load the naming dictionary\n",
    "with open(weather_dict_path, 'rb') as handle:\n",
    "    rename_dict = pickle.load(handle)"
   ]
  },
  {
   "cell_type": "code",
   "execution_count": 5,
   "metadata": {},
   "outputs": [],
   "source": [
    "#rename the columns based on this dictionary\n",
    "target_df.rename(columns = rename_dict, inplace = True)"
   ]
  },
  {
   "cell_type": "code",
   "execution_count": 6,
   "metadata": {},
   "outputs": [],
   "source": [
    "#create lists of columns to drop and what our targets are\n",
    "non_mod_cols = ['GRID_ID','month_id','MONTH','COUNTYFP','NAME','GRID_AREA','COUNTY_ARE','COUNTY_AREA',\n",
    "                'geometry', 'adj_fire_count','adj_fire_bcount', 'Fire_area','Index','index']\n",
    "bad_features = ['hist_p_time_1m', 'total_fire_days', 'hist_p_time_1y','month_id_old']\n",
    "Y_cols = ['Y_bin', 'Y_fire_count', 'Y_fire_area_prop', 'Y_fire_class_size','Y_bin_new_fire_month',\n",
    "          'Y_max_new_fire_size_month','Y_count_new_fires_month']"
   ]
  },
  {
   "cell_type": "code",
   "execution_count": 7,
   "metadata": {},
   "outputs": [],
   "source": [
    "#convert floats from 64 to 32 for model\n",
    "for col in target_df.columns:\n",
    "    if target_df[col].dtypes == 'float64':\n",
    "        target_df[col] = target_df[col].astype(np.float32)"
   ]
  },
  {
   "cell_type": "markdown",
   "metadata": {},
   "source": [
    "# Split training and testing data"
   ]
  },
  {
   "cell_type": "code",
   "execution_count": 8,
   "metadata": {},
   "outputs": [],
   "source": [
    "#generate training data set\n",
    "#pre 2016\n",
    "train_data = target_df[target_df['YEAR']<=2016]\n",
    "X_train = train_data.drop('YEAR', axis = 1)\n",
    "#drop columns not used for modeling\n",
    "for y in Y_cols + non_mod_cols + bad_features:\n",
    "    try:\n",
    "        X_train.drop(y, inplace = True, axis =1)\n",
    "    except:\n",
    "        pass\n",
    "#set up target variable\n",
    "Y_train_reg = train_data[['Y_fire_area_prop']]\n",
    "Y_train_cl = train_data[['Y_bin_new_fire_month']]\n",
    "Y_train_cl_size = train_data[['Y_max_new_fire_size_month']]\n",
    "\n",
    "#generate testing data set - same logic as above\n",
    "test_data = target_df[target_df['YEAR']>2016]\n",
    "X_test = test_data.drop('YEAR', axis = 1)\n",
    "for y in Y_cols + non_mod_cols + bad_features:\n",
    "    try:\n",
    "        X_test.drop(y, inplace = True, axis =1)\n",
    "    except:\n",
    "        pass\n",
    "Y_test_reg = test_data[['Y_fire_area_prop']]\n",
    "Y_test_cl = test_data[['Y_bin_new_fire_month']]\n",
    "Y_test_cl_size = test_data[['Y_max_new_fire_size_month']]"
   ]
  },
  {
   "cell_type": "code",
   "execution_count": 9,
   "metadata": {},
   "outputs": [
    {
     "data": {
      "text/plain": [
       "0.0"
      ]
     },
     "execution_count": 9,
     "metadata": {},
     "output_type": "execute_result"
    }
   ],
   "source": [
    "#check for any null values\n",
    "\n",
    "#null vals array\n",
    "null = np.zeros(len(X_train.columns))\n",
    "\n",
    "for i in range(len(X_train.columns)):\n",
    "    null[i] = X_train.loc[X_train[X_train.columns[i]].isna()].shape[0]\n",
    "    \n",
    "np.sum(null)"
   ]
  },
  {
   "cell_type": "markdown",
   "metadata": {},
   "source": [
    "# Build OOB Random Forest - Class"
   ]
  },
  {
   "cell_type": "code",
   "execution_count": 19,
   "metadata": {},
   "outputs": [
    {
     "data": {
      "text/plain": [
       "RandomForestClassifier()"
      ]
     },
     "execution_count": 19,
     "metadata": {},
     "output_type": "execute_result"
    }
   ],
   "source": [
    "rf_clf = RandomForestClassifier()\n",
    "rf_clf.fit(X_train,Y_train_cl.to_numpy().ravel())"
   ]
  },
  {
   "cell_type": "code",
   "execution_count": 20,
   "metadata": {},
   "outputs": [
    {
     "name": "stdout",
     "output_type": "stream",
     "text": [
      "              precision    recall  f1-score   support\n",
      "\n",
      "           0       0.90      0.98      0.94      4176\n",
      "           1       0.58      0.20      0.30       576\n",
      "\n",
      "    accuracy                           0.89      4752\n",
      "   macro avg       0.74      0.59      0.62      4752\n",
      "weighted avg       0.86      0.89      0.86      4752\n",
      "\n"
     ]
    }
   ],
   "source": [
    "y_test_cl_arr = Y_test_cl.to_numpy()\n",
    "preds_clf = rf_clf.predict(X_test)\n",
    "\n",
    "#plot confusion\n",
    "confusion_matrix(y_test_cl_arr, preds_clf)\n",
    "\n",
    "#get precision and recall scores\n",
    "print(classification_report(y_test_cl_arr, preds_clf))"
   ]
  },
  {
   "cell_type": "code",
   "execution_count": 21,
   "metadata": {},
   "outputs": [
    {
     "data": {
      "text/html": [
       "<div>\n",
       "<style scoped>\n",
       "    .dataframe tbody tr th:only-of-type {\n",
       "        vertical-align: middle;\n",
       "    }\n",
       "\n",
       "    .dataframe tbody tr th {\n",
       "        vertical-align: top;\n",
       "    }\n",
       "\n",
       "    .dataframe thead th {\n",
       "        text-align: right;\n",
       "    }\n",
       "</style>\n",
       "<table border=\"1\" class=\"dataframe\">\n",
       "  <thead>\n",
       "    <tr style=\"text-align: right;\">\n",
       "      <th></th>\n",
       "      <th>feature</th>\n",
       "      <th>feature score</th>\n",
       "    </tr>\n",
       "  </thead>\n",
       "  <tbody>\n",
       "    <tr>\n",
       "      <th>121</th>\n",
       "      <td>2m_tmp_18hrs_5y</td>\n",
       "      <td>0.015581</td>\n",
       "    </tr>\n",
       "    <tr>\n",
       "      <th>70</th>\n",
       "      <td>tot_area_fire_prev_1yr</td>\n",
       "      <td>0.014893</td>\n",
       "    </tr>\n",
       "    <tr>\n",
       "      <th>66</th>\n",
       "      <td>hist_fire_area_prop_1m</td>\n",
       "      <td>0.013501</td>\n",
       "    </tr>\n",
       "    <tr>\n",
       "      <th>153</th>\n",
       "      <td>2m_tmp_18hrs_10y</td>\n",
       "      <td>0.013477</td>\n",
       "    </tr>\n",
       "    <tr>\n",
       "      <th>67</th>\n",
       "      <td>hist_fire_area_prop_1y</td>\n",
       "      <td>0.012678</td>\n",
       "    </tr>\n",
       "    <tr>\n",
       "      <th>...</th>\n",
       "      <td>...</td>\n",
       "      <td>...</td>\n",
       "    </tr>\n",
       "    <tr>\n",
       "      <th>97</th>\n",
       "      <td>leaf_low_veg_18hrs_1y</td>\n",
       "      <td>0.001716</td>\n",
       "    </tr>\n",
       "    <tr>\n",
       "      <th>4</th>\n",
       "      <td>elev_min</td>\n",
       "      <td>0.001713</td>\n",
       "    </tr>\n",
       "    <tr>\n",
       "      <th>27</th>\n",
       "      <td>medianHHI2018</td>\n",
       "      <td>0.001610</td>\n",
       "    </tr>\n",
       "    <tr>\n",
       "      <th>2</th>\n",
       "      <td>elev_media</td>\n",
       "      <td>0.001538</td>\n",
       "    </tr>\n",
       "    <tr>\n",
       "      <th>62</th>\n",
       "      <td>hist_bin_10y</td>\n",
       "      <td>0.000535</td>\n",
       "    </tr>\n",
       "  </tbody>\n",
       "</table>\n",
       "<p>170 rows × 2 columns</p>\n",
       "</div>"
      ],
      "text/plain": [
       "                    feature  feature score\n",
       "121         2m_tmp_18hrs_5y       0.015581\n",
       "70   tot_area_fire_prev_1yr       0.014893\n",
       "66   hist_fire_area_prop_1m       0.013501\n",
       "153        2m_tmp_18hrs_10y       0.013477\n",
       "67   hist_fire_area_prop_1y       0.012678\n",
       "..                      ...            ...\n",
       "97    leaf_low_veg_18hrs_1y       0.001716\n",
       "4                  elev_min       0.001713\n",
       "27            medianHHI2018       0.001610\n",
       "2                elev_media       0.001538\n",
       "62             hist_bin_10y       0.000535\n",
       "\n",
       "[170 rows x 2 columns]"
      ]
     },
     "execution_count": 21,
     "metadata": {},
     "output_type": "execute_result"
    }
   ],
   "source": [
    "#check feature importance \n",
    "features_clf = pd.DataFrame()\n",
    "features_clf['feature'] = X_test.columns\n",
    "features_clf['feature score'] = rf_clf.feature_importances_\n",
    "features_clf.sort_values(by=['feature score'], ascending=False)"
   ]
  },
  {
   "cell_type": "markdown",
   "metadata": {},
   "source": [
    "# Try Clf only during fire season"
   ]
  },
  {
   "cell_type": "code",
   "execution_count": 10,
   "metadata": {},
   "outputs": [],
   "source": [
    "#try doing only on months in fire season\n",
    "#pick may - november\n",
    "fire_season = target_df.loc[target_df['MONTH']>=5].loc[target_df['MONTH']<=11]"
   ]
  },
  {
   "cell_type": "code",
   "execution_count": 11,
   "metadata": {},
   "outputs": [],
   "source": [
    "#generate training data set - on fire season\n",
    "#pre 2016\n",
    "train_data_v2 = fire_season[fire_season['YEAR']<=2016]\n",
    "X_train_v2 = train_data_v2.drop('YEAR', axis = 1)\n",
    "#drop columns not used for modeling\n",
    "for y in Y_cols + non_mod_cols + bad_features:\n",
    "    try:\n",
    "        X_train_v2.drop(y, inplace = True, axis =1)\n",
    "    except:\n",
    "        pass\n",
    "#set up target variable\n",
    "Y_train_cl_v2 = train_data_v2[['Y_bin_new_fire_month']]\n",
    "\n",
    "#generate testing data set - same logic as above\n",
    "test_data_v2 = fire_season[fire_season['YEAR']>2016]\n",
    "X_test_v2 = test_data_v2.drop('YEAR', axis = 1)\n",
    "for y in Y_cols + non_mod_cols + bad_features:\n",
    "    try:\n",
    "        X_test_v2.drop(y, inplace = True, axis =1)\n",
    "    except:\n",
    "        pass\n",
    "Y_test_cl_v2 = test_data_v2[['Y_bin_new_fire_month']]"
   ]
  },
  {
   "cell_type": "code",
   "execution_count": 12,
   "metadata": {},
   "outputs": [
    {
     "data": {
      "text/plain": [
       "RandomForestClassifier()"
      ]
     },
     "execution_count": 12,
     "metadata": {},
     "output_type": "execute_result"
    }
   ],
   "source": [
    "#oob Random forest\n",
    "rf_clf_2 = RandomForestClassifier()\n",
    "rf_clf_2.fit(X_train_v2,Y_train_cl_v2.to_numpy().ravel())"
   ]
  },
  {
   "cell_type": "code",
   "execution_count": 13,
   "metadata": {},
   "outputs": [
    {
     "name": "stdout",
     "output_type": "stream",
     "text": [
      "[[2158   97]\n",
      " [ 386  131]]\n",
      "0.6051846959475398\n",
      "              precision    recall  f1-score   support\n",
      "\n",
      "           0       0.85      0.96      0.90      2255\n",
      "           1       0.57      0.25      0.35       517\n",
      "\n",
      "    accuracy                           0.83      2772\n",
      "   macro avg       0.71      0.61      0.63      2772\n",
      "weighted avg       0.80      0.83      0.80      2772\n",
      "\n"
     ]
    }
   ],
   "source": [
    "y_test_cl_arr_2 = Y_test_cl_v2.to_numpy()\n",
    "preds_clf_2 = rf_clf_2.predict(X_test_v2)\n",
    "\n",
    "#plot confusion\n",
    "print(confusion_matrix(y_test_cl_arr_2, preds_clf_2))\n",
    "print(roc_auc_score(y_test_cl_arr_2, preds_clf_2))\n",
    "print(classification_report(y_test_cl_arr_2, preds_clf_2))"
   ]
  },
  {
   "cell_type": "code",
   "execution_count": 14,
   "metadata": {},
   "outputs": [
    {
     "data": {
      "text/html": [
       "<div>\n",
       "<style scoped>\n",
       "    .dataframe tbody tr th:only-of-type {\n",
       "        vertical-align: middle;\n",
       "    }\n",
       "\n",
       "    .dataframe tbody tr th {\n",
       "        vertical-align: top;\n",
       "    }\n",
       "\n",
       "    .dataframe thead th {\n",
       "        text-align: right;\n",
       "    }\n",
       "</style>\n",
       "<table border=\"1\" class=\"dataframe\">\n",
       "  <thead>\n",
       "    <tr style=\"text-align: right;\">\n",
       "      <th></th>\n",
       "      <th>feature</th>\n",
       "      <th>feature score</th>\n",
       "    </tr>\n",
       "  </thead>\n",
       "  <tbody>\n",
       "    <tr>\n",
       "      <th>70</th>\n",
       "      <td>tot_area_fire_prev_1yr</td>\n",
       "      <td>0.018070</td>\n",
       "    </tr>\n",
       "    <tr>\n",
       "      <th>67</th>\n",
       "      <td>hist_fire_area_prop_1y</td>\n",
       "      <td>0.015124</td>\n",
       "    </tr>\n",
       "    <tr>\n",
       "      <th>66</th>\n",
       "      <td>hist_fire_area_prop_1m</td>\n",
       "      <td>0.014588</td>\n",
       "    </tr>\n",
       "    <tr>\n",
       "      <th>73</th>\n",
       "      <td>hist_prop_area_fire_1m</td>\n",
       "      <td>0.012640</td>\n",
       "    </tr>\n",
       "    <tr>\n",
       "      <th>118</th>\n",
       "      <td>2m_tmp_0hrs_5y</td>\n",
       "      <td>0.011609</td>\n",
       "    </tr>\n",
       "    <tr>\n",
       "      <th>...</th>\n",
       "      <td>...</td>\n",
       "      <td>...</td>\n",
       "    </tr>\n",
       "    <tr>\n",
       "      <th>95</th>\n",
       "      <td>leaf_low_veg_6hrs_1y</td>\n",
       "      <td>0.001955</td>\n",
       "    </tr>\n",
       "    <tr>\n",
       "      <th>27</th>\n",
       "      <td>medianHHI2018</td>\n",
       "      <td>0.001599</td>\n",
       "    </tr>\n",
       "    <tr>\n",
       "      <th>62</th>\n",
       "      <td>hist_bin_10y</td>\n",
       "      <td>0.001469</td>\n",
       "    </tr>\n",
       "    <tr>\n",
       "      <th>4</th>\n",
       "      <td>elev_min</td>\n",
       "      <td>0.001399</td>\n",
       "    </tr>\n",
       "    <tr>\n",
       "      <th>2</th>\n",
       "      <td>elev_media</td>\n",
       "      <td>0.001329</td>\n",
       "    </tr>\n",
       "  </tbody>\n",
       "</table>\n",
       "<p>170 rows × 2 columns</p>\n",
       "</div>"
      ],
      "text/plain": [
       "                    feature  feature score\n",
       "70   tot_area_fire_prev_1yr       0.018070\n",
       "67   hist_fire_area_prop_1y       0.015124\n",
       "66   hist_fire_area_prop_1m       0.014588\n",
       "73   hist_prop_area_fire_1m       0.012640\n",
       "118          2m_tmp_0hrs_5y       0.011609\n",
       "..                      ...            ...\n",
       "95     leaf_low_veg_6hrs_1y       0.001955\n",
       "27            medianHHI2018       0.001599\n",
       "62             hist_bin_10y       0.001469\n",
       "4                  elev_min       0.001399\n",
       "2                elev_media       0.001329\n",
       "\n",
       "[170 rows x 2 columns]"
      ]
     },
     "execution_count": 14,
     "metadata": {},
     "output_type": "execute_result"
    }
   ],
   "source": [
    "features_clf2 = pd.DataFrame()\n",
    "features_clf2['feature'] = X_test.columns\n",
    "features_clf2['feature score'] = rf_clf_2.feature_importances_\n",
    "features_clf2.sort_values(by=['feature score'], ascending=False)"
   ]
  },
  {
   "cell_type": "markdown",
   "metadata": {},
   "source": [
    "# Limit to Positive Instances and Predict Class Size"
   ]
  },
  {
   "cell_type": "code",
   "execution_count": 15,
   "metadata": {},
   "outputs": [],
   "source": [
    "#limit to positives \n",
    "pos_df = target_df.loc[target_df['Y_bin_new_fire_month']==1]\n",
    "\n",
    "#generate training data set\n",
    "#pre 2016\n",
    "train_data_pos = pos_df[pos_df['YEAR']<=2016]\n",
    "X_train_pos = train_data_pos.drop('YEAR', axis = 1)\n",
    "#drop columns not used for modeling\n",
    "for y in Y_cols + non_mod_cols + bad_features:\n",
    "    try:\n",
    "        X_train_pos.drop(y, inplace = True, axis =1)\n",
    "    except:\n",
    "        pass\n",
    "#set up target variable\n",
    "Y_train_cl_size_pos = train_data_pos[['Y_max_new_fire_size_month']]\n",
    "\n",
    "#generate testing data set - same logic as above\n",
    "test_data_pos = pos_df[pos_df['YEAR']>2016]\n",
    "X_test_pos = test_data_pos.drop('YEAR', axis = 1)\n",
    "for y in Y_cols + non_mod_cols + bad_features:\n",
    "    try:\n",
    "        X_test_pos.drop(y, inplace = True, axis =1)\n",
    "    except:\n",
    "        pass\n",
    "Y_test_cl_size_pos = test_data_pos[['Y_max_new_fire_size_month']]"
   ]
  },
  {
   "cell_type": "code",
   "execution_count": 16,
   "metadata": {},
   "outputs": [
    {
     "data": {
      "text/plain": [
       "RandomForestClassifier()"
      ]
     },
     "execution_count": 16,
     "metadata": {},
     "output_type": "execute_result"
    }
   ],
   "source": [
    "#oob Random forest\n",
    "y_size_pos = Y_train_cl_size_pos.to_numpy().ravel()\n",
    "rf_clf_size = RandomForestClassifier()\n",
    "rf_clf_size.fit(X_train_pos,y_size_pos)"
   ]
  },
  {
   "cell_type": "code",
   "execution_count": 18,
   "metadata": {},
   "outputs": [
    {
     "name": "stdout",
     "output_type": "stream",
     "text": [
      "[[199  51  48]\n",
      " [ 56  28  33]\n",
      " [ 72  27  62]]\n",
      "              precision    recall  f1-score   support\n",
      "\n",
      "           1       0.61      0.67      0.64       298\n",
      "           2       0.26      0.24      0.25       117\n",
      "           3       0.43      0.39      0.41       161\n",
      "\n",
      "    accuracy                           0.50       576\n",
      "   macro avg       0.44      0.43      0.43       576\n",
      "weighted avg       0.49      0.50      0.49       576\n",
      "\n"
     ]
    }
   ],
   "source": [
    "preds_clf_pos = rf_clf_size.predict(X_test_pos)\n",
    "y_size_pos_test = Y_test_cl_size_pos.to_numpy().ravel()\n",
    "\n",
    "#plot confusion\n",
    "print(confusion_matrix(y_size_pos_test, preds_clf_pos))\n",
    "\n",
    "print(classification_report(y_size_pos_test, preds_clf_pos))"
   ]
  },
  {
   "cell_type": "markdown",
   "metadata": {},
   "source": [
    "# Build OOB RF - Regression"
   ]
  },
  {
   "cell_type": "code",
   "execution_count": 22,
   "metadata": {},
   "outputs": [
    {
     "data": {
      "text/plain": [
       "RandomForestRegressor()"
      ]
     },
     "execution_count": 22,
     "metadata": {},
     "output_type": "execute_result"
    }
   ],
   "source": [
    "#fit the regression model\n",
    "rf = RandomForestRegressor()\n",
    "rf.fit(X_train,Y_train_reg.to_numpy().ravel())"
   ]
  },
  {
   "cell_type": "code",
   "execution_count": 24,
   "metadata": {},
   "outputs": [],
   "source": [
    "#turn y and prediction into arrays\n",
    "preds_arrays = rf.predict(X_test)\n",
    "y_test_arr = Y_test_reg.to_numpy()"
   ]
  },
  {
   "cell_type": "code",
   "execution_count": 26,
   "metadata": {},
   "outputs": [
    {
     "name": "stdout",
     "output_type": "stream",
     "text": [
      "R^2 value: 0.45001813151031966\n"
     ]
    },
    {
     "data": {
      "image/png": "[encoded data removed]",
      "text/plain": [
       "<Figure size 576x432 with 1 Axes>"
      ]
     },
     "metadata": {
      "needs_background": "light"
     },
     "output_type": "display_data"
    }
   ],
   "source": [
    "#plot predictions vs actuals\n",
    "plt.figure(figsize=(8,6))\n",
    "plt.scatter(preds_arrays, y_test_arr)\n",
    "plt.title('Scatter of predictions')\n",
    "plt.xlabel('Predicted Area %')\n",
    "plt.ylabel('Actual Area %')\n",
    "#check R^2 value\n",
    "print(\"R^2 value:\",rf.score(X_test, Y_test_reg))\n",
    "plt.show()"
   ]
  },
  {
   "cell_type": "code",
   "execution_count": 27,
   "metadata": {},
   "outputs": [
    {
     "data": {
      "text/html": [
       "<div>\n",
       "<style scoped>\n",
       "    .dataframe tbody tr th:only-of-type {\n",
       "        vertical-align: middle;\n",
       "    }\n",
       "\n",
       "    .dataframe tbody tr th {\n",
       "        vertical-align: top;\n",
       "    }\n",
       "\n",
       "    .dataframe thead th {\n",
       "        text-align: right;\n",
       "    }\n",
       "</style>\n",
       "<table border=\"1\" class=\"dataframe\">\n",
       "  <thead>\n",
       "    <tr style=\"text-align: right;\">\n",
       "      <th></th>\n",
       "      <th>feature</th>\n",
       "      <th>feature_score</th>\n",
       "    </tr>\n",
       "  </thead>\n",
       "  <tbody>\n",
       "    <tr>\n",
       "      <th>73</th>\n",
       "      <td>hist_prop_area_fire_1m</td>\n",
       "      <td>4.342618e-01</td>\n",
       "    </tr>\n",
       "    <tr>\n",
       "      <th>72</th>\n",
       "      <td>hist_cl_size_no_leak_1m</td>\n",
       "      <td>1.146312e-01</td>\n",
       "    </tr>\n",
       "    <tr>\n",
       "      <th>66</th>\n",
       "      <td>hist_fire_area_prop_1m</td>\n",
       "      <td>1.865205e-02</td>\n",
       "    </tr>\n",
       "    <tr>\n",
       "      <th>121</th>\n",
       "      <td>2m_tmp_18hrs_5y</td>\n",
       "      <td>1.437407e-02</td>\n",
       "    </tr>\n",
       "    <tr>\n",
       "      <th>47</th>\n",
       "      <td>2m_tmp_12hrs</td>\n",
       "      <td>9.060250e-03</td>\n",
       "    </tr>\n",
       "    <tr>\n",
       "      <th>...</th>\n",
       "      <td>...</td>\n",
       "      <td>...</td>\n",
       "    </tr>\n",
       "    <tr>\n",
       "      <th>97</th>\n",
       "      <td>leaf_low_veg_18hrs_1y</td>\n",
       "      <td>3.510070e-04</td>\n",
       "    </tr>\n",
       "    <tr>\n",
       "      <th>71</th>\n",
       "      <td>hist_bin_no_leak_1m</td>\n",
       "      <td>1.949293e-04</td>\n",
       "    </tr>\n",
       "    <tr>\n",
       "      <th>60</th>\n",
       "      <td>hist_bin_1y</td>\n",
       "      <td>5.421005e-05</td>\n",
       "    </tr>\n",
       "    <tr>\n",
       "      <th>61</th>\n",
       "      <td>hist_bin_5y</td>\n",
       "      <td>7.347610e-06</td>\n",
       "    </tr>\n",
       "    <tr>\n",
       "      <th>62</th>\n",
       "      <td>hist_bin_10y</td>\n",
       "      <td>7.995736e-07</td>\n",
       "    </tr>\n",
       "  </tbody>\n",
       "</table>\n",
       "<p>170 rows × 2 columns</p>\n",
       "</div>"
      ],
      "text/plain": [
       "                     feature  feature_score\n",
       "73    hist_prop_area_fire_1m   4.342618e-01\n",
       "72   hist_cl_size_no_leak_1m   1.146312e-01\n",
       "66    hist_fire_area_prop_1m   1.865205e-02\n",
       "121          2m_tmp_18hrs_5y   1.437407e-02\n",
       "47              2m_tmp_12hrs   9.060250e-03\n",
       "..                       ...            ...\n",
       "97     leaf_low_veg_18hrs_1y   3.510070e-04\n",
       "71       hist_bin_no_leak_1m   1.949293e-04\n",
       "60               hist_bin_1y   5.421005e-05\n",
       "61               hist_bin_5y   7.347610e-06\n",
       "62              hist_bin_10y   7.995736e-07\n",
       "\n",
       "[170 rows x 2 columns]"
      ]
     },
     "execution_count": 27,
     "metadata": {},
     "output_type": "execute_result"
    }
   ],
   "source": [
    "features = pd.DataFrame()\n",
    "features['feature'] = X_test.columns\n",
    "features['feature_score'] = rf.feature_importances_\n",
    "features.sort_values(by='feature_score', ascending=False)"
   ]
  }
 ],
 "metadata": {
  "kernelspec": {
   "display_name": "Python 3",
   "language": "python",
   "name": "python3"
  },
  "language_info": {
   "codemirror_mode": {
    "name": "ipython",
    "version": 3
   },
   "file_extension": ".py",
   "mimetype": "text/x-python",
   "name": "python",
   "nbconvert_exporter": "python",
   "pygments_lexer": "ipython3",
   "version": "3.8.6"
  }
 },
 "nbformat": 4,
 "nbformat_minor": 4
}
