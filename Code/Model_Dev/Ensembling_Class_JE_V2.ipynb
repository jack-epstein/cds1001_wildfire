{
 "cells": [
  {
   "cell_type": "code",
   "execution_count": 1,
   "metadata": {},
   "outputs": [],
   "source": [
    "#import packages\n",
    "import pandas as pd  # provides interface for interacting with tabular data\n",
    "import geopandas as gpd  # combines the capabilities of pandas and shapely for geospatial operations\n",
    "import rtree  # supports geospatial join\n",
    "import os\n",
    "import fnmatch\n",
    "import numpy as np\n",
    "import matplotlib.pyplot as plt\n",
    "import sys\n",
    "import pickle\n",
    "from shapely.ops import nearest_points\n",
    "from datetime import datetime as dt, date\n",
    "sys.path.append('/Users/jackepstein/Documents/GitHub/wildfires-1001/code/functions/')\n",
    "from modeling_functions import *\n",
    "data_dir = '/Users/jackepstein/Documents/GitHub/wildfires-1001/data'\n",
    "code_dir = '/Users/jackepstein/Documents/GitHub/wildfires-1001/code'\n",
    "model_dir = '/Users/jackepstein/Documents/GitHub/wildfires-1001/models'"
   ]
  },
  {
   "cell_type": "code",
   "execution_count": 2,
   "metadata": {},
   "outputs": [],
   "source": [
    "from sklearn.metrics import accuracy_score, confusion_matrix, classification_report, multilabel_confusion_matrix\n",
    "from sklearn.metrics import auc, roc_curve, roc_auc_score\n",
    "from sklearn.utils.class_weight import compute_class_weight\n",
    "from sklearn.linear_model import LogisticRegression\n",
    "from sklearn.svm import SVC, LinearSVC\n",
    "from sklearn.preprocessing import scale, label_binarize\n",
    "from sklearn.multiclass import OneVsRestClassifier\n",
    "from sklearn.decomposition import PCA"
   ]
  },
  {
   "cell_type": "markdown",
   "metadata": {},
   "source": [
    "# Pull in main data frame"
   ]
  },
  {
   "cell_type": "code",
   "execution_count": 3,
   "metadata": {},
   "outputs": [],
   "source": [
    "#pull in the target data frame and weather dictionary \n",
    "#make sure to change the pkl file name if needed\n",
    "target_dict = {}\n",
    "target_df = gpd.GeoDataFrame()\n",
    "for i in np.arange(1, 3):\n",
    "    target_dict[i] = pd.read_pickle(os.path.join(data_dir, f'clean_data/target_df_final_1123_newtargets_{i}.pkl')) \n",
    "    target_df = target_df.append(target_dict[i])\n",
    "\n",
    "\n",
    "weather_dict_path = os.path.join(data_dir, 'clean_data/ERA_weather-data/ERA_rename_dictionary.pkl')"
   ]
  },
  {
   "cell_type": "code",
   "execution_count": 4,
   "metadata": {},
   "outputs": [],
   "source": [
    "#load the naming dictionary\n",
    "with open(weather_dict_path, 'rb') as handle:\n",
    "    rename_dict = pickle.load(handle)"
   ]
  },
  {
   "cell_type": "code",
   "execution_count": 5,
   "metadata": {},
   "outputs": [],
   "source": [
    "#rename the columns based on this dictionary\n",
    "target_df.rename(columns = rename_dict, inplace = True)"
   ]
  },
  {
   "cell_type": "code",
   "execution_count": 6,
   "metadata": {},
   "outputs": [],
   "source": [
    "#create lists of columns to drop and what our targets are\n",
    "non_mod_cols = ['GRID_ID','month_id','MONTH','COUNTYFP','COUNTY_AREA', 'NAME','GRID_AREA','COUNTY_ARE','month_id_old_x','month_id_old_y',\n",
    "                'geometry','Fire_area','total_fire_days','hist_p_time_1y','total_fire_days','hist_p_time_1y', \n",
    "                'hist_p_time_1m', 'month_id_old', 'YEAR','Index','index']\n",
    "bad_features = ['hist_p_time_1m', 'total_fire_days', 'hist_p_time_1y','month_id_old']\n",
    "Y_cols = ['Y_bin', 'Y_fire_count', 'Y_fire_area_prop', 'Y_fire_class_size','Y_bin_new_fire_month',\n",
    "          'Y_max_new_fire_size_month','Y_count_new_fires_month']"
   ]
  },
  {
   "cell_type": "code",
   "execution_count": 7,
   "metadata": {},
   "outputs": [],
   "source": [
    "#convert floats from 64 to 32 for model\n",
    "for col in target_df.columns:\n",
    "    if target_df[col].dtypes == 'float64':\n",
    "        target_df[col] = target_df[col].astype(np.float32)"
   ]
  },
  {
   "cell_type": "markdown",
   "metadata": {},
   "source": [
    "# Pull in Models and Feature Lists"
   ]
  },
  {
   "cell_type": "code",
   "execution_count": 8,
   "metadata": {},
   "outputs": [],
   "source": [
    "#pull in models\n",
    "\n",
    "#list of models\n",
    "model_list = ['LR_15PCA_1990_2005.pkl', 'LR_20gini_1990_2005.pkl', 'linSVC_15PCA_1990_2005.pkl', \n",
    "              'linSVC_30gini_1990_2005.pkl', 'x-val_LR_30RF_1990_2005.pkl','LR_30entropy_1990_2005.pkl',\n",
    "              'linSVC_30entropy_1990_2005.pkl','LR_multiclass_25gini_1990_2015.pkl']\n",
    "\n",
    "\n",
    "#get all paths for loading\n",
    "model_path_list = []\n",
    "for m in model_list:\n",
    "    mod_path = os.path.join(model_dir, m)\n",
    "    model_path_list.append(mod_path)\n",
    "\n",
    "#load the models into a dictionary with the file as the key and the model as the value\n",
    "models = {}\n",
    "for m in range(len(model_list)):\n",
    "    with open(model_path_list[m], 'rb') as handle:\n",
    "        models[model_list[m]] = pickle.load(handle)"
   ]
  },
  {
   "cell_type": "code",
   "execution_count": 9,
   "metadata": {},
   "outputs": [],
   "source": [
    "#pull in feature lists\n",
    "\n",
    "#w ill need 30e\n",
    "feat_list = ['RF_entropy_top30_features.pkl', 'RF_gini_top20_features_1990_2005.pkl', \n",
    "             'RF_gini_top30_features_1990_2005.pkl', 'RF_entropy_top35_features.pkl',\n",
    "             'RF_multi_gini_top25_features_1990_2015.pkl']\n",
    "\n",
    "#get paths for loading\n",
    "feat_path_list = []\n",
    "for f in feat_list:\n",
    "    feat_path = os.path.join(model_dir,'feature_lists',f)\n",
    "    feat_path_list.append(feat_path)\n",
    "\n",
    "features = {}\n",
    "for f in range(len(feat_list)):\n",
    "    with open(feat_path_list[f], 'rb') as handle:\n",
    "        features[feat_list[f]] = pickle.load(handle)"
   ]
  },
  {
   "cell_type": "markdown",
   "metadata": {},
   "source": [
    "# Split training and testing data"
   ]
  },
  {
   "cell_type": "markdown",
   "metadata": {},
   "source": [
    "### This is the split where using the 1990-2005 on initial test, 2006-2015 on 2nd stage and 2016-2019 on final testing"
   ]
  },
  {
   "cell_type": "code",
   "execution_count": 10,
   "metadata": {},
   "outputs": [],
   "source": [
    "#generate phase1 data set\n",
    "#pre 2006\n",
    "phase1_data = target_df[target_df['YEAR']<2006]\n",
    "X_phase1 = phase1_data.drop('YEAR', axis = 1)\n",
    "#drop columns not used for modeling - dont drop Ys here\n",
    "for y in Y_cols + non_mod_cols + bad_features:\n",
    "    try:\n",
    "        X_phase1.drop(y, inplace = True, axis =1)\n",
    "    except:\n",
    "        pass\n",
    "#set up target variable\n",
    "Y_ph1_cl = phase1_data[['Y_bin_new_fire_month']]\n",
    "Y_ph1_cl_size = phase1_data[['Y_max_new_fire_size_month']]\n",
    "\n",
    "#generate phase2 data set - same logic as above\n",
    "phase2_data = target_df[(target_df['YEAR']>=2006)&(target_df['YEAR']<2016)]\n",
    "X_phase2 = phase2_data.drop('YEAR', axis = 1)\n",
    "for y in Y_cols + non_mod_cols + bad_features:\n",
    "    try:\n",
    "        X_phase2.drop(y, inplace = True, axis =1)\n",
    "    except:\n",
    "        pass\n",
    "Y_ph2_cl = phase2_data[['Y_bin_new_fire_month']]\n",
    "Y_ph2_cl_size = phase2_data[['Y_max_new_fire_size_month']]\n",
    "\n",
    "#generate phase3 (test) data set\n",
    "phase3_data = target_df[target_df['YEAR']>=2016]\n",
    "X_phase3 = phase3_data.drop('YEAR', axis = 1)\n",
    "for y in Y_cols + non_mod_cols + bad_features:\n",
    "    try:\n",
    "        X_phase3.drop(y, inplace = True, axis =1)\n",
    "    except:\n",
    "        pass\n",
    "Y_ph3_cl = phase3_data[['Y_bin_new_fire_month']]\n",
    "Y_ph3_cl_size = phase3_data[['Y_max_new_fire_size_month']]"
   ]
  },
  {
   "cell_type": "code",
   "execution_count": 11,
   "metadata": {},
   "outputs": [],
   "source": [
    "#scale all data sets\n",
    "X_phase1_scaled = pd.DataFrame(scale(X_phase1), columns = X_phase1.columns, index=X_phase1.index)\n",
    "X_phase2_scaled = pd.DataFrame(scale(X_phase2), columns = X_phase2.columns, index=X_phase2.index)\n",
    "X_phase3_scaled = pd.DataFrame(scale(X_phase3), columns = X_phase3.columns, index=X_phase3.index)"
   ]
  },
  {
   "cell_type": "markdown",
   "metadata": {},
   "source": [
    "# Perform PCA"
   ]
  },
  {
   "cell_type": "code",
   "execution_count": 12,
   "metadata": {},
   "outputs": [],
   "source": [
    "#copy base df and re-drop non modeling columns\n",
    "X_features = target_df.copy()\n",
    "for y in Y_cols + non_mod_cols + bad_features:\n",
    "    try:\n",
    "        X_features.drop(y, inplace = True, axis =1)\n",
    "    except:\n",
    "        pass\n",
    "    \n",
    "#scale features    \n",
    "X_features_scaled = scale(X_features)    "
   ]
  },
  {
   "cell_type": "code",
   "execution_count": 13,
   "metadata": {},
   "outputs": [
    {
     "data": {
      "text/plain": [
       "[<matplotlib.lines.Line2D at 0x7fc34f46fb50>]"
      ]
     },
     "execution_count": 13,
     "metadata": {},
     "output_type": "execute_result"
    },
    {
     "data": {
      "image/png": "[encoded data removed]",
      "text/plain": [
       "<Figure size 432x288 with 1 Axes>"
      ]
     },
     "metadata": {
      "needs_background": "light"
     },
     "output_type": "display_data"
    }
   ],
   "source": [
    "#fit the scaled dataset\n",
    "pca_x = PCA().fit(X_features_scaled)\n",
    "\n",
    "#plot explained variance ratio\n",
    "plt.plot(pca_x.explained_variance_ratio_[0:20])"
   ]
  },
  {
   "cell_type": "code",
   "execution_count": 14,
   "metadata": {},
   "outputs": [],
   "source": [
    "pca_df = pd.DataFrame(pca_x.components_[0:20,].transpose(), columns = [\"PC{}\".format(i+1) for i in range(20)], \\\n",
    "                      index = X_features.columns)"
   ]
  },
  {
   "cell_type": "code",
   "execution_count": 15,
   "metadata": {},
   "outputs": [],
   "source": [
    "#write for loop to make list \"nth_principle_component\"\n",
    "princ_comp_list = []\n",
    "for name in range(1,173):\n",
    "    pr = str(name)+'th_pc'\n",
    "    princ_comp_list.append(pr)    "
   ]
  },
  {
   "cell_type": "code",
   "execution_count": 16,
   "metadata": {},
   "outputs": [],
   "source": [
    "#do split on 3 phases -- still need to do 3 phase split as well\n",
    "X_features_pca = pd.DataFrame(pca_x.transform(X_features_scaled), columns = princ_comp_list)\n",
    "X_features_pca['YEAR'] = target_df['YEAR']\n",
    "\n",
    "#split phases on year\n",
    "X_ph1_pca = X_features_pca[X_features_pca['YEAR']< 2006]\n",
    "X_ph2_pca = X_features_pca[(X_features_pca['YEAR']>=2006)&(X_features_pca['YEAR']<2016)]\n",
    "X_ph3_pca = X_features_pca[X_features_pca['YEAR']>=2016]\n",
    "\n",
    "\n",
    "Y_ph1_pca = target_df[target_df['YEAR']<2006]['Y_bin_new_fire_month']\n",
    "Y_ph1_size_pca = target_df[target_df['YEAR']<2006]['Y_max_new_fire_size_month']\n",
    "\n",
    "Y_ph2_pca = target_df[(target_df['YEAR']>=2006)&(target_df['YEAR']<2016)]['Y_bin_new_fire_month']\n",
    "Y_ph2_size_pca = target_df[(target_df['YEAR']>=2006)&(target_df['YEAR']<2016)]['Y_max_new_fire_size_month']\n",
    "\n",
    "Y_ph3_pca = target_df[target_df['YEAR']>=2016]['Y_bin_new_fire_month']\n",
    "Y_ph3_size_pca = target_df[target_df['YEAR']>=2016]['Y_max_new_fire_size_month']"
   ]
  },
  {
   "cell_type": "markdown",
   "metadata": {},
   "source": [
    "## Pick model and Get Trained Predictions"
   ]
  },
  {
   "cell_type": "markdown",
   "metadata": {},
   "source": [
    "ASPECTS TO TEST\n",
    "- LR vs SVM\n",
    "- REGULARIZATION PARAMETERS\n",
    "- PCA vs DATA\n",
    "- Number of Features/Principle Components\n",
    "- Try one test with Predictions as a feature rather than a filtering device"
   ]
  },
  {
   "cell_type": "code",
   "execution_count": 17,
   "metadata": {},
   "outputs": [
    {
     "data": {
      "text/plain": [
       "LogisticRegression(C=0.01, class_weight='balanced')"
      ]
     },
     "execution_count": 17,
     "metadata": {},
     "output_type": "execute_result"
    }
   ],
   "source": [
    "#slim down to feature list rather than PCs\n",
    "#use 'RF_gini_top20_features_1990_2005.pkl'\n",
    "X_ph1 = X_phase1_scaled[features['RF_entropy_top30_features.pkl']]\n",
    "X_ph2 = X_phase2_scaled[features['RF_entropy_top30_features.pkl']]\n",
    "X_ph3 = X_phase3_scaled[features['RF_entropy_top30_features.pkl']]\n",
    "\n",
    "\n",
    "#pick model\n",
    "#picking 'x-val_LR_30RF_1990_2005.pkl'\n",
    "X_phase1_scaled\n",
    "model = models['x-val_LR_30RF_1990_2005.pkl'].fit(X_ph1, Y_ph1_cl.to_numpy().ravel())\n",
    "model"
   ]
  },
  {
   "cell_type": "code",
   "execution_count": 18,
   "metadata": {},
   "outputs": [],
   "source": [
    "#slim down features - was needed when using a PCA model as a phase 1\n",
    "X_ph1_15 = X_ph1_pca[X_ph1_pca.columns[0:15]]\n",
    "X_ph2_15 = X_ph2_pca[X_ph2_pca.columns[0:15]]\n",
    "X_ph3_15 = X_ph3_pca[X_ph3_pca.columns[0:15]]"
   ]
  },
  {
   "cell_type": "code",
   "execution_count": 19,
   "metadata": {},
   "outputs": [],
   "source": [
    "#run model on train and test sets to get predictions\n",
    "y_preds_ph2 = model.predict(X_ph2)\n",
    "y_preds_ph3 = model.predict(X_ph3)"
   ]
  },
  {
   "cell_type": "code",
   "execution_count": 20,
   "metadata": {},
   "outputs": [],
   "source": [
    "#store predictions and filter -- phase 2\n",
    "\n",
    "#append the these predictions to the dataframe\n",
    "preds2_df = pd.DataFrame(y_preds_ph2, columns=['preds'], index=X_ph2_pca.index)\n",
    "X_ph2_pca_preds = X_ph2_pca.merge(preds2_df, how='outer', left_index=True, right_index=True)\n",
    "\n",
    "#rejoin with the y-size column\n",
    "X_ph2_pca_ysize = X_ph2_pca_preds.merge(Y_ph2_size_pca, how='outer', left_index=True, right_index=True)\n",
    "\n",
    "\n",
    "\n",
    "#store predictions and filter -- phase 3\n",
    "\n",
    "#append the these predictions to the dataframe\n",
    "preds3_df = pd.DataFrame(y_preds_ph3, columns=['preds'], index=X_ph3_pca.index)\n",
    "X_ph3_pca_preds = X_ph3_pca.merge(preds3_df, how='outer', left_index=True, right_index=True)\n",
    "\n",
    "#rejoin with the y-size column\n",
    "X_ph3_pca_ysize = X_ph3_pca_preds.merge(Y_ph3_size_pca, how='outer', left_index=True, right_index=True)"
   ]
  },
  {
   "cell_type": "code",
   "execution_count": 21,
   "metadata": {},
   "outputs": [],
   "source": [
    "#repeat this process for the standard scaled data set\n",
    "\n",
    "#append the these predictions to the dataframe\n",
    "preds2_df2 = pd.DataFrame(y_preds_ph2, columns=['preds'], index=X_phase2_scaled.index)\n",
    "X_ph2_scaled_preds = X_phase2_scaled.merge(preds2_df2, how='outer', left_index=True, right_index=True)\n",
    "\n",
    "#rejoin with the y-size column\n",
    "X_ph2_scaled_ysize = X_ph2_scaled_preds.merge(Y_ph2_cl_size, how='outer', left_index=True, right_index=True)\n",
    "\n",
    "\n",
    "\n",
    "#store predictions and filter -- phase 3\n",
    "\n",
    "#append the these predictions to the dataframe\n",
    "preds3_df2 = pd.DataFrame(y_preds_ph3, columns=['preds'], index=X_phase3_scaled.index)\n",
    "X_ph3_scaled_preds = X_phase3_scaled.merge(preds3_df2, how='outer', left_index=True, right_index=True)\n",
    "\n",
    "#rejoin with the y-size column\n",
    "X_ph3_scaled_ysize = X_ph3_scaled_preds.merge(Y_ph3_cl_size, how='outer', left_index=True, right_index=True)"
   ]
  },
  {
   "cell_type": "markdown",
   "metadata": {},
   "source": [
    "# Using positive predictions as a filter (rather than a feature)"
   ]
  },
  {
   "cell_type": "markdown",
   "metadata": {},
   "source": [
    "#### Get test and training sets and targets ready"
   ]
  },
  {
   "cell_type": "code",
   "execution_count": 22,
   "metadata": {},
   "outputs": [],
   "source": [
    "#filter for the positive predicted instances\n",
    "X_ph2_pca_cut = X_ph2_pca_ysize.loc[X_ph2_pca_ysize['preds']==1]\n",
    "X_ph3_pca_cut = X_ph3_pca_ysize.loc[X_ph3_pca_ysize['preds']==1]\n",
    "X_ph2_scaled_cut = X_ph2_scaled_ysize.loc[X_ph2_scaled_ysize['preds']==1]\n",
    "X_ph3_scaled_cut = X_ph3_scaled_ysize.loc[X_ph3_scaled_ysize['preds']==1]\n",
    "\n",
    "\n",
    "#drop preds and class_size columns, while saving class size as a new training y\n",
    "Y_ph2_size_pca_cut = X_ph2_pca_cut['Y_max_new_fire_size_month']\n",
    "Y_ph3_size_pca_cut = X_ph3_pca_cut['Y_max_new_fire_size_month']\n",
    "Y_ph2_scaled_cut = X_ph2_scaled_cut['Y_max_new_fire_size_month']\n",
    "Y_ph3_scaled_cut = X_ph3_scaled_cut['Y_max_new_fire_size_month']\n",
    "\n",
    "X_ph2_pca_ready = X_ph2_pca_cut.drop(columns=['preds','Y_max_new_fire_size_month','YEAR'])\n",
    "X_ph3_pca_ready = X_ph3_pca_cut.drop(columns=['preds','Y_max_new_fire_size_month','YEAR'])\n",
    "X_ph2_scaled_ready = X_ph2_scaled_cut.drop(columns=['preds','Y_max_new_fire_size_month'])\n",
    "X_ph3_scaled_ready = X_ph3_scaled_cut.drop(columns=['preds','Y_max_new_fire_size_month'])"
   ]
  },
  {
   "cell_type": "code",
   "execution_count": 23,
   "metadata": {},
   "outputs": [],
   "source": [
    "#regularization hyperparam options\n",
    "cs = [10**i for i in range(-4, 2)] \n",
    "pc_nums = [15, 20, 25, 30]\n",
    "classes = np.array([0,1,2,3])\n",
    "costs = np.array([0, -1, -10 , -50])"
   ]
  },
  {
   "cell_type": "code",
   "execution_count": 24,
   "metadata": {},
   "outputs": [
    {
     "data": {
      "text/plain": [
       "array([[  0.   ,  -0.25 ,  -2.5  , -12.5  ],\n",
       "       [ -1.   ,   0.   ,  -0.225,  -0.245],\n",
       "       [-10.   ,  -0.9  ,   0.   ,  -0.2  ],\n",
       "       [-50.   ,  -0.98 ,  -0.8  ,   0.   ]])"
      ]
     },
     "execution_count": 24,
     "metadata": {},
     "output_type": "execute_result"
    }
   ],
   "source": [
    "#get the cost matrix\n",
    "cost_mat = multi_cost_matrix(classes, costs)\n",
    "cost_mat"
   ]
  },
  {
   "cell_type": "code",
   "execution_count": 25,
   "metadata": {},
   "outputs": [],
   "source": [
    "colummns_top = ['test', 'EV', 'AUC', 'Recall_bf']\n",
    "top_score_df = pd.DataFrame(columns=colummns_top)"
   ]
  },
  {
   "cell_type": "markdown",
   "metadata": {},
   "source": [
    "# Test 1: Logistic Regression - PCA\n",
    "- Regularization params\n",
    "- Number of Principle Components"
   ]
  },
  {
   "cell_type": "code",
   "execution_count": 26,
   "metadata": {},
   "outputs": [],
   "source": [
    "#run LR on all Cs and number of PCs\n",
    "#store all confusion matrices, AUCs, scores and expected values\n",
    "aucs_t1 = {}\n",
    "conf_mats_t1 = {}\n",
    "evs_t1 = {}\n",
    "\n",
    "for i in pc_nums:\n",
    "    #slim down data set to first i PCs\n",
    "    X_ph2_pca_fit = X_ph2_pca_ready[X_ph2_pca_ready.columns[0:i]]\n",
    "    X_ph3_pca_score = X_ph3_pca_ready[X_ph3_pca_ready.columns[0:i]]\n",
    "    \n",
    "    #create nested dictionary \n",
    "    aucs_t1[i] = {}\n",
    "    conf_mats_t1[i] = {}\n",
    "    evs_t1[i] = {}\n",
    "    \n",
    "    for c in cs:\n",
    "        lr = LogisticRegression(C=c, max_iter=1500, class_weight = 'balanced').fit(X_ph2_pca_fit, \n",
    "                                                                                   Y_ph2_size_pca_cut.to_numpy().ravel())\n",
    "\n",
    "        cm = confusion_matrix(Y_ph3_size_pca_cut, lr.predict(X_ph3_pca_score), normalize='true')\n",
    "        conf_mats_t1[i][c] = cm\n",
    "        ev = EV_multi(Y_ph3_size_pca_cut, lr.predict(X_ph3_pca_score), classes, cost_mat)\n",
    "        evs_t1[i][c] = ev\n",
    "        \n",
    "        #store aucs -- will aggregate after taking an auc for each class -- simple mean\n",
    "        y = label_binarize(Y_ph3_size_pca_cut, classes=[0,1,2,3])\n",
    "        n_classes = y.shape[1]\n",
    "        aucs_sub = np.zeros(n_classes)\n",
    "        for n in range(n_classes):\n",
    "            fpr, tpr, thresholds = roc_curve(y[:,n], lr.predict_proba(X_ph3_pca_score)[:,n])\n",
    "            aucs_sub = auc(fpr,tpr)\n",
    "    \n",
    "        aucs_t1[i][c] = np.mean(aucs_sub)"
   ]
  },
  {
   "cell_type": "code",
   "execution_count": 27,
   "metadata": {},
   "outputs": [
    {
     "name": "stdout",
     "output_type": "stream",
     "text": [
      "# of princtple components for max EV: 15\n",
      "regularization weight for max EV: 0.0001\n",
      "Max EV: -3.6170345880190524\n"
     ]
    }
   ],
   "source": [
    "#get the best expected value from the test\n",
    "max_evs_t1 = []\n",
    "max_keys_t1 = []\n",
    "for d in pc_nums:\n",
    "    max_ev = max(evs_t1[d].values())\n",
    "    max_key = max(evs_t1[d], key=evs_t1[d].get)\n",
    "    max_evs_t1.append(max_ev)\n",
    "    max_keys_t1.append(max_key)\n",
    "\n",
    "index_t1 = max_evs_t1.index(max(max_evs_t1)) \n",
    "print(\"# of princtple components for max EV:\",pc_nums[index_t1])    \n",
    "print(\"regularization weight for max EV:\",max_keys_t1[index_t1])\n",
    "print(\"Max EV:\",max_evs_t1[index_t1])"
   ]
  },
  {
   "cell_type": "code",
   "execution_count": 28,
   "metadata": {},
   "outputs": [],
   "source": [
    "#for above params, get the AUC, EV and big fire recall\n",
    "top_score_df\n",
    "temp_df = pd.DataFrame([['t1',max_evs_t1[index_t1],\n",
    "                         aucs_t1[pc_nums[index_t1]][max_keys_t1[index_t1]],\n",
    "                         conf_mats_t1[pc_nums[index_t1]][max_keys_t1[index_t1]][3][3]]], columns=colummns_top)\n",
    "top_score_df = top_score_df.append(temp_df)"
   ]
  },
  {
   "cell_type": "markdown",
   "metadata": {},
   "source": [
    "# Test 2: SVM - PCA\n",
    "- Regularization params\n",
    "- Number of Principle Components"
   ]
  },
  {
   "cell_type": "code",
   "execution_count": 29,
   "metadata": {},
   "outputs": [],
   "source": [
    "#run SVM on all Cs and number of PCs\n",
    "#store all confusion matrices, AUCs, scores and expected values\n",
    "aucs_t2 = {}\n",
    "conf_mats_t2 = {}\n",
    "evs_t2 = {}\n",
    "\n",
    "for i in pc_nums:\n",
    "    #slim down data set to first i PCs\n",
    "    X_ph2_pca_fit = X_ph2_pca_ready[X_ph2_pca_ready.columns[0:i]]\n",
    "    X_ph3_pca_score = X_ph3_pca_ready[X_ph3_pca_ready.columns[0:i]]\n",
    "    \n",
    "    #create nested dictionary \n",
    "    aucs_t2[i] = {}\n",
    "    conf_mats_t2[i] = {}\n",
    "    evs_t2[i] = {}\n",
    "    \n",
    "    for c in cs:\n",
    "        svm = LinearSVC(C=c, class_weight = 'balanced', dual=False).fit(X_ph2_pca_fit, \n",
    "                                                                                   Y_ph2_size_pca_cut.to_numpy().ravel())\n",
    "\n",
    "        cm = confusion_matrix(Y_ph3_size_pca_cut, svm.predict(X_ph3_pca_score), normalize='true')\n",
    "        conf_mats_t2[i][c] = cm\n",
    "        ev = EV_multi(Y_ph3_size_pca_cut, svm.predict(X_ph3_pca_score), classes, cost_mat)\n",
    "        evs_t2[i][c] = ev\n",
    "        \n",
    "        #store aucs -- will aggregate after taking an auc for each class -- simple mean\n",
    "        y = label_binarize(Y_ph3_size_pca_cut, classes=[0,1,2,3])\n",
    "        n_classes = y.shape[1]\n",
    "        aucs_sub = np.zeros(n_classes)\n",
    "        for n in range(n_classes):\n",
    "            fpr, tpr, thresholds = roc_curve(y[:,n], svm.decision_function(X_ph3_pca_score)[:,n])\n",
    "            aucs_sub = auc(fpr,tpr)\n",
    "    \n",
    "        aucs_t2[i][c] = np.mean(aucs_sub)"
   ]
  },
  {
   "cell_type": "code",
   "execution_count": 30,
   "metadata": {},
   "outputs": [
    {
     "name": "stdout",
     "output_type": "stream",
     "text": [
      "# of princtple components for max EV: 25\n",
      "regularization weight for max EV: 0.1\n",
      "Max EV: -6.963973710850537\n"
     ]
    }
   ],
   "source": [
    "#get the best expected value from the test\n",
    "max_evs_t2 = []\n",
    "max_keys_t2 = []\n",
    "for d in pc_nums:\n",
    "    max_ev = max(evs_t2[d].values())\n",
    "    max_key = max(evs_t2[d], key=evs_t2[d].get)\n",
    "    max_evs_t2.append(max_ev)\n",
    "    max_keys_t2.append(max_key)\n",
    "\n",
    "index_t2 = max_evs_t2.index(max(max_evs_t2)) \n",
    "print(\"# of princtple components for max EV:\",pc_nums[index_t2])    \n",
    "print(\"regularization weight for max EV:\",max_keys_t2[index_t2])\n",
    "print(\"Max EV:\",max_evs_t2[index_t2])"
   ]
  },
  {
   "cell_type": "code",
   "execution_count": 31,
   "metadata": {},
   "outputs": [],
   "source": [
    "#for above params, get the AUC, EV and big fire recall\n",
    "temp_df = pd.DataFrame([['t2',max_evs_t2[index_t2],\n",
    "                         aucs_t2[pc_nums[index_t2]][max_keys_t2[index_t2]],\n",
    "                         conf_mats_t2[pc_nums[index_t2]][max_keys_t2[index_t2]][3][3]]], columns=colummns_top)\n",
    "top_score_df = top_score_df.append(temp_df)"
   ]
  },
  {
   "cell_type": "markdown",
   "metadata": {},
   "source": [
    "# Test 3: Logistic Regression - Feature Selection"
   ]
  },
  {
   "cell_type": "markdown",
   "metadata": {},
   "source": [
    "- Regularization params\n",
    "- Features (can pick from list)"
   ]
  },
  {
   "cell_type": "code",
   "execution_count": 32,
   "metadata": {},
   "outputs": [],
   "source": [
    "feat_list_keys = list(features.keys())"
   ]
  },
  {
   "cell_type": "code",
   "execution_count": 33,
   "metadata": {},
   "outputs": [],
   "source": [
    "#run LR on all Cs and features\n",
    "#store all confusion matrices, AUCs, scores and expected values\n",
    "aucs_t3 = {}\n",
    "conf_mats_t3 = {}\n",
    "evs_t3 = {}\n",
    "\n",
    "for i in feat_list_keys:\n",
    "    #slim down data set our top features\n",
    "    X_ph2_feat_fit = X_ph2_scaled_ready[features[i]]\n",
    "    X_ph3_feat_score = X_ph3_scaled_ready[features[i]]\n",
    "    \n",
    "    #create nested dictionary \n",
    "    aucs_t3[i] = {}\n",
    "    conf_mats_t3[i] = {}\n",
    "    evs_t3[i] = {}\n",
    "    \n",
    "    for c in cs:\n",
    "        lr = LogisticRegression(C=c, max_iter=1500, class_weight = 'balanced').fit(X_ph2_feat_fit, \n",
    "                                                                                   Y_ph2_scaled_cut.to_numpy().ravel())\n",
    "\n",
    "        cm = confusion_matrix(Y_ph3_scaled_cut, lr.predict(X_ph3_feat_score), normalize='true')\n",
    "        conf_mats_t3[i][c] = cm\n",
    "        ev = EV_multi(Y_ph3_scaled_cut, lr.predict(X_ph3_feat_score), classes, cost_mat)\n",
    "        evs_t3[i][c] = ev\n",
    "        \n",
    "        #store aucs -- will aggregate after taking an auc for each class -- simple mean\n",
    "        y = label_binarize(Y_ph3_scaled_cut, classes=[0,1,2,3])\n",
    "        n_classes = y.shape[1]\n",
    "        aucs_sub = np.zeros(n_classes)\n",
    "        for n in range(n_classes):\n",
    "            fpr, tpr, thresholds = roc_curve(y[:,n], lr.predict_proba(X_ph3_feat_score)[:,n])\n",
    "            aucs_sub = auc(fpr,tpr)\n",
    "    \n",
    "        aucs_t3[i][c] = np.mean(aucs_sub)"
   ]
  },
  {
   "cell_type": "code",
   "execution_count": 34,
   "metadata": {},
   "outputs": [
    {
     "name": "stdout",
     "output_type": "stream",
     "text": [
      "Feature list for max EV: RF_gini_top30_features_1990_2005.pkl\n",
      "regularization weight for max EV: 10\n",
      "Max EV: -3.3131792259690567\n"
     ]
    }
   ],
   "source": [
    "#get the best expected value from the test\n",
    "max_evs_t3 = []\n",
    "max_keys_t3 = []\n",
    "for f in feat_list_keys:\n",
    "    max_ev = max(evs_t3[f].values())\n",
    "    max_key = max(evs_t3[f], key=evs_t3[f].get)\n",
    "    max_evs_t3.append(max_ev)\n",
    "    max_keys_t3.append(max_key)\n",
    "\n",
    "index_t3 = max_evs_t3.index(max(max_evs_t3)) \n",
    "print(\"Feature list for max EV:\",feat_list_keys[index_t3])    \n",
    "print(\"regularization weight for max EV:\",max_keys_t3[index_t3])\n",
    "print(\"Max EV:\",max_evs_t3[index_t3])"
   ]
  },
  {
   "cell_type": "code",
   "execution_count": 35,
   "metadata": {},
   "outputs": [],
   "source": [
    "#for above params, get the AUC, EV and big fire recall\n",
    "temp_df = pd.DataFrame([['t3',max_evs_t3[index_t3],\n",
    "                         aucs_t3[feat_list_keys[index_t3]][max_keys_t3[index_t3]],\n",
    "                         conf_mats_t3[feat_list_keys[index_t3]][max_keys_t3[index_t3]][3][3]]], columns=colummns_top)\n",
    "top_score_df = top_score_df.append(temp_df)"
   ]
  },
  {
   "cell_type": "markdown",
   "metadata": {},
   "source": [
    "# Test 4: SVM- Feature Selection"
   ]
  },
  {
   "cell_type": "markdown",
   "metadata": {},
   "source": [
    "- Regularization params\n",
    "- Features (can pick from list)"
   ]
  },
  {
   "cell_type": "code",
   "execution_count": 36,
   "metadata": {},
   "outputs": [],
   "source": [
    "#run SVM on all Cs and features\n",
    "#store all confusion matrices, AUCs, scores and expected values\n",
    "aucs_t4 = {}\n",
    "conf_mats_t4 = {}\n",
    "evs_t4 = {}\n",
    "\n",
    "for i in feat_list_keys:\n",
    "    #slim down data set our top features\n",
    "    X_ph2_feat_fit = X_ph2_scaled_ready[features[i]]\n",
    "    X_ph3_feat_score = X_ph3_scaled_ready[features[i]]\n",
    "    \n",
    "    #create nested dictionary \n",
    "    aucs_t4[i] = {}\n",
    "    conf_mats_t4[i] = {}\n",
    "    evs_t4[i] = {}\n",
    "    \n",
    "    for c in cs:\n",
    "        svm = LinearSVC(C=c, class_weight = 'balanced', dual=False).fit(X_ph2_feat_fit, \n",
    "                                                                                   Y_ph2_scaled_cut.to_numpy().ravel())\n",
    "\n",
    "        cm = confusion_matrix(Y_ph3_scaled_cut, svm.predict(X_ph3_feat_score), normalize='true')\n",
    "        conf_mats_t4[i][c] = cm\n",
    "        ev = EV_multi(Y_ph3_scaled_cut, svm.predict(X_ph3_feat_score), classes, cost_mat)\n",
    "        evs_t4[i][c] = ev\n",
    "        \n",
    "        #store aucs -- will aggregate after taking an auc for each class -- simple mean\n",
    "        y = label_binarize(Y_ph3_scaled_cut, classes=[0,1,2,3])\n",
    "        n_classes = y.shape[1]\n",
    "        aucs_sub = np.zeros(n_classes)\n",
    "        for n in range(n_classes):\n",
    "            fpr, tpr, thresholds = roc_curve(y[:,n], svm.decision_function(X_ph3_feat_score)[:,n])\n",
    "            aucs_sub = auc(fpr,tpr)\n",
    "    \n",
    "        aucs_t4[i][c] = np.mean(aucs_sub)"
   ]
  },
  {
   "cell_type": "code",
   "execution_count": 37,
   "metadata": {},
   "outputs": [
    {
     "name": "stdout",
     "output_type": "stream",
     "text": [
      "Feature list for max EV: RF_entropy_top30_features.pkl\n",
      "regularization weight for max EV: 0.1\n",
      "Max EV: -6.4521310049101865\n"
     ]
    }
   ],
   "source": [
    "#get the best expected value from the test\n",
    "max_evs_t4 = []\n",
    "max_keys_t4 = []\n",
    "for f in feat_list_keys:\n",
    "    max_ev = max(evs_t4[f].values())\n",
    "    max_key = max(evs_t4[f], key=evs_t4[f].get)\n",
    "    max_evs_t4.append(max_ev)\n",
    "    max_keys_t4.append(max_key)\n",
    "\n",
    "index_t4 = max_evs_t4.index(max(max_evs_t4)) \n",
    "print(\"Feature list for max EV:\",feat_list_keys[index_t4])    \n",
    "print(\"regularization weight for max EV:\",max_keys_t4[index_t4])\n",
    "print(\"Max EV:\",max_evs_t4[index_t4])"
   ]
  },
  {
   "cell_type": "code",
   "execution_count": 38,
   "metadata": {},
   "outputs": [],
   "source": [
    "#for above params, get the AUC, EV and big fire recall\n",
    "temp_df = pd.DataFrame([['t4',max_evs_t4[index_t4],\n",
    "                         aucs_t4[feat_list_keys[index_t4]][max_keys_t4[index_t4]],\n",
    "                         conf_mats_t4[feat_list_keys[index_t4]][max_keys_t4[index_t4]][3][3]]], columns=colummns_top)\n",
    "top_score_df = top_score_df.append(temp_df)"
   ]
  },
  {
   "cell_type": "markdown",
   "metadata": {},
   "source": [
    "# Test Having Predicted Positive as a feature rather than a filter\n",
    "- Append the predicitons -- but don't cut\n",
    "- Do with the feature data set not PCA -- not going to scale this because it is already binary\n",
    "- Can test both LR/SVM\n",
    "- Test all feature lists"
   ]
  },
  {
   "cell_type": "code",
   "execution_count": 39,
   "metadata": {},
   "outputs": [
    {
     "name": "stdout",
     "output_type": "stream",
     "text": [
      "True\n",
      "True\n"
     ]
    }
   ],
   "source": [
    "#X data to use -- uncut with all scaled feature\n",
    "X_ph2_scaled_ysize\n",
    "X_ph3_scaled_ysize\n",
    "\n",
    "#feature sets to use\n",
    "Y_ph2_cl_size\n",
    "Y_ph3_cl_size\n",
    "\n",
    "#check that indeces match up\n",
    "print(min(Y_ph2_cl_size.index == X_ph2_scaled_ysize.index))\n",
    "print(min(Y_ph3_cl_size.index == X_ph3_scaled_ysize.index))"
   ]
  },
  {
   "cell_type": "markdown",
   "metadata": {},
   "source": [
    "# Test 5: Logistic Regression- Feature Selection (prediction as feature)"
   ]
  },
  {
   "cell_type": "code",
   "execution_count": 40,
   "metadata": {},
   "outputs": [],
   "source": [
    "#run LR on all Cs and features\n",
    "#store all confusion matrices, AUCs, scores and expected values\n",
    "#also storing nominal totals in conf mats\n",
    "aucs_t5 = {}\n",
    "conf_mats_t5 = {}\n",
    "conf_mats_tot_t5 = {}\n",
    "evs_t5 = {}\n",
    "\n",
    "for i in feat_list_keys:\n",
    "    #slim down data set our top features\n",
    "    feats = features[i].copy()\n",
    "    feats.append('preds')\n",
    "    X_ph2_feat_fit = X_ph2_scaled_ysize[feats]\n",
    "    X_ph3_feat_score = X_ph3_scaled_ysize[feats]\n",
    "    \n",
    "    #create nested dictionary \n",
    "    aucs_t5[i] = {}\n",
    "    conf_mats_t5[i] = {}\n",
    "    conf_mats_tot_t5[i] = {}\n",
    "    evs_t5[i] = {}\n",
    "    \n",
    "    for c in cs:\n",
    "        lr = LogisticRegression(C=c, max_iter=1500, class_weight = 'balanced').fit(X_ph2_feat_fit, \n",
    "                                                                                   Y_ph2_cl_size.to_numpy().ravel())\n",
    "\n",
    "        cm = confusion_matrix(Y_ph3_cl_size, lr.predict(X_ph3_feat_score), normalize='true')\n",
    "        conf_mats_t5[i][c] = cm\n",
    "        cm2 = confusion_matrix(Y_ph3_cl_size, lr.predict(X_ph3_feat_score))\n",
    "        conf_mats_tot_t5[i][c] = cm2\n",
    "        ev = EV_multi(Y_ph3_cl_size, lr.predict(X_ph3_feat_score), classes, cost_mat)\n",
    "        evs_t5[i][c] = ev\n",
    "        \n",
    "        #store aucs -- will aggregate after taking an auc for each class -- simple mean\n",
    "        y = label_binarize(Y_ph3_cl_size, classes=[0,1,2,3])\n",
    "        n_classes = y.shape[1]\n",
    "        aucs_sub = np.zeros(n_classes)\n",
    "        for n in range(n_classes):\n",
    "            fpr, tpr, thresholds = roc_curve(y[:,n], lr.predict_proba(X_ph3_feat_score)[:,n])\n",
    "            aucs_sub = auc(fpr,tpr)\n",
    "    \n",
    "        aucs_t5[i][c] = np.mean(aucs_sub)"
   ]
  },
  {
   "cell_type": "code",
   "execution_count": 41,
   "metadata": {},
   "outputs": [],
   "source": [
    "#get best feature list and copy it\n",
    "feats_pickle = features['RF_entropy_top30_features.pkl'].copy()\n",
    "#add preds\n",
    "feats_pickle.append('preds')\n",
    "#slim phase 3 with that added\n",
    "X_ph3_pickle = X_ph3_scaled_ysize[feats_pickle]\n",
    "#pickle this\n",
    "X_ph3_pickle.to_pickle('MultiClass_DF_Ph3.pkl')"
   ]
  },
  {
   "cell_type": "code",
   "execution_count": 42,
   "metadata": {},
   "outputs": [
    {
     "name": "stdout",
     "output_type": "stream",
     "text": [
      "Feature list for max EV: RF_entropy_top30_features.pkl\n",
      "regularization weight for max EV: 0.1\n",
      "Max EV: -0.882800371262512\n"
     ]
    }
   ],
   "source": [
    "#get the best expected value from the test\n",
    "max_evs_t5 = []\n",
    "max_keys_t5 = []\n",
    "for f in feat_list_keys:\n",
    "    max_ev = max(evs_t5[f].values())\n",
    "    max_key = max(evs_t5[f], key=evs_t5[f].get)\n",
    "    max_evs_t5.append(max_ev)\n",
    "    max_keys_t5.append(max_key)\n",
    "\n",
    "index_t5 = max_evs_t5.index(max(max_evs_t5)) \n",
    "print(\"Feature list for max EV:\",feat_list_keys[index_t5])    \n",
    "print(\"regularization weight for max EV:\",max_keys_t5[index_t5])\n",
    "print(\"Max EV:\",max_evs_t5[index_t5])"
   ]
  },
  {
   "cell_type": "code",
   "execution_count": 43,
   "metadata": {},
   "outputs": [],
   "source": [
    "#for above params, get the AUC, EV and big fire recall\n",
    "temp_df = pd.DataFrame([['t5',max_evs_t5[index_t5],\n",
    "                         aucs_t5[feat_list_keys[index_t5]][max_keys_t5[index_t5]],\n",
    "                         conf_mats_t5[feat_list_keys[index_t5]][max_keys_t5[index_t5]][3][3]]], columns=colummns_top)\n",
    "top_score_df = top_score_df.append(temp_df)"
   ]
  },
  {
   "cell_type": "markdown",
   "metadata": {},
   "source": [
    "# Test 6: SVM- Feature Selection (prediction as feature)"
   ]
  },
  {
   "cell_type": "code",
   "execution_count": 44,
   "metadata": {},
   "outputs": [],
   "source": [
    "#run SVM on all Cs and features\n",
    "#store all confusion matrices, AUCs, scores and expected values\n",
    "aucs_t6 = {}\n",
    "conf_mats_t6 = {}\n",
    "evs_t6 = {}\n",
    "\n",
    "for i in feat_list_keys:\n",
    "    #slim down data set our top features\n",
    "    feats = features[i].copy()\n",
    "    feats.append('preds')\n",
    "    X_ph2_feat_fit = X_ph2_scaled_ysize[feats]\n",
    "    X_ph3_feat_score = X_ph3_scaled_ysize[feats]\n",
    "    \n",
    "    #create nested dictionary \n",
    "    aucs_t6[i] = {}\n",
    "    conf_mats_t6[i] = {}\n",
    "    evs_t6[i] = {}\n",
    "    \n",
    "    for c in cs:\n",
    "        svm = LinearSVC(C=c, class_weight = 'balanced', dual=False).fit(X_ph2_feat_fit, \n",
    "                                                                                   Y_ph2_cl_size.to_numpy().ravel())\n",
    "\n",
    "        cm = confusion_matrix(Y_ph3_cl_size, svm.predict(X_ph3_feat_score), normalize='true')\n",
    "        conf_mats_t6[i][c] = cm\n",
    "        ev = EV_multi(Y_ph3_cl_size, svm.predict(X_ph3_feat_score), classes, cost_mat)\n",
    "        evs_t6[i][c] = ev\n",
    "        \n",
    "        #store aucs -- will aggregate after taking an auc for each class -- simple mean\n",
    "        y = label_binarize(Y_ph3_cl_size, classes=[0,1,2,3])\n",
    "        n_classes = y.shape[1]\n",
    "        aucs_sub = np.zeros(n_classes)\n",
    "        for n in range(n_classes):\n",
    "            fpr, tpr, thresholds = roc_curve(y[:,n], svm.decision_function(X_ph3_feat_score)[:,n])\n",
    "            aucs_sub = auc(fpr,tpr)\n",
    "    \n",
    "        aucs_t6[i][c] = np.mean(aucs_sub)"
   ]
  },
  {
   "cell_type": "code",
   "execution_count": 64,
   "metadata": {},
   "outputs": [
    {
     "name": "stdout",
     "output_type": "stream",
     "text": [
      "Feature list for max EV: RF_multi_gini_top25_features_1990_2015.pkl\n",
      "regularization weight for max EV: 0.0001\n",
      "Max EV: -4.37994950228728\n"
     ]
    }
   ],
   "source": [
    "#get the best expected value from the test\n",
    "max_evs_t6 = []\n",
    "max_keys_t6 = []\n",
    "for f in feat_list_keys:\n",
    "    max_ev = max(evs_t6[f].values())\n",
    "    max_key = max(evs_t6[f], key=evs_t6[f].get)\n",
    "    max_evs_t6.append(max_ev)\n",
    "    max_keys_t6.append(max_key)\n",
    "\n",
    "index_t6 = max_evs_t6.index(max(max_evs_t6)) \n",
    "print(\"Feature list for max EV:\",feat_list_keys[index_t6])    \n",
    "print(\"regularization weight for max EV:\",max_keys_t6[index_t6])\n",
    "print(\"Max EV:\",max_evs_t6[index_t6])"
   ]
  },
  {
   "cell_type": "code",
   "execution_count": 46,
   "metadata": {},
   "outputs": [],
   "source": [
    "#for above params, get the AUC, EV and big fire recall\n",
    "temp_df = pd.DataFrame([['t6',max_evs_t6[index_t6],\n",
    "                         aucs_t6[feat_list_keys[index_t6]][max_keys_t6[index_t6]],\n",
    "                         conf_mats_t6[feat_list_keys[index_t6]][max_keys_t6[index_t6]][3][3]]], columns=colummns_top)\n",
    "top_score_df = top_score_df.append(temp_df)"
   ]
  },
  {
   "cell_type": "code",
   "execution_count": 61,
   "metadata": {},
   "outputs": [
    {
     "data": {
      "text/html": [
       "<div>\n",
       "<style scoped>\n",
       "    .dataframe tbody tr th:only-of-type {\n",
       "        vertical-align: middle;\n",
       "    }\n",
       "\n",
       "    .dataframe tbody tr th {\n",
       "        vertical-align: top;\n",
       "    }\n",
       "\n",
       "    .dataframe thead th {\n",
       "        text-align: right;\n",
       "    }\n",
       "</style>\n",
       "<table border=\"1\" class=\"dataframe\">\n",
       "  <thead>\n",
       "    <tr style=\"text-align: right;\">\n",
       "      <th></th>\n",
       "      <th>test</th>\n",
       "      <th>EV</th>\n",
       "      <th>AUC</th>\n",
       "      <th>Recall_bf</th>\n",
       "    </tr>\n",
       "  </thead>\n",
       "  <tbody>\n",
       "    <tr>\n",
       "      <th>0</th>\n",
       "      <td>t1</td>\n",
       "      <td>-3.617035</td>\n",
       "      <td>0.605718</td>\n",
       "      <td>0.481081</td>\n",
       "    </tr>\n",
       "    <tr>\n",
       "      <th>0</th>\n",
       "      <td>t2</td>\n",
       "      <td>-6.963974</td>\n",
       "      <td>0.672432</td>\n",
       "      <td>0.183784</td>\n",
       "    </tr>\n",
       "    <tr>\n",
       "      <th>0</th>\n",
       "      <td>t3</td>\n",
       "      <td>-3.313179</td>\n",
       "      <td>0.662818</td>\n",
       "      <td>0.378378</td>\n",
       "    </tr>\n",
       "    <tr>\n",
       "      <th>0</th>\n",
       "      <td>t4</td>\n",
       "      <td>-6.452131</td>\n",
       "      <td>0.669070</td>\n",
       "      <td>0.156757</td>\n",
       "    </tr>\n",
       "    <tr>\n",
       "      <th>0</th>\n",
       "      <td>t5</td>\n",
       "      <td>-0.882800</td>\n",
       "      <td>0.850484</td>\n",
       "      <td>0.504545</td>\n",
       "    </tr>\n",
       "    <tr>\n",
       "      <th>0</th>\n",
       "      <td>t6</td>\n",
       "      <td>-4.379950</td>\n",
       "      <td>0.880694</td>\n",
       "      <td>0.490909</td>\n",
       "    </tr>\n",
       "  </tbody>\n",
       "</table>\n",
       "</div>"
      ],
      "text/plain": [
       "  test        EV       AUC  Recall_bf\n",
       "0   t1 -3.617035  0.605718   0.481081\n",
       "0   t2 -6.963974  0.672432   0.183784\n",
       "0   t3 -3.313179  0.662818   0.378378\n",
       "0   t4 -6.452131  0.669070   0.156757\n",
       "0   t5 -0.882800  0.850484   0.504545\n",
       "0   t6 -4.379950  0.880694   0.490909"
      ]
     },
     "execution_count": 61,
     "metadata": {},
     "output_type": "execute_result"
    }
   ],
   "source": [
    "top_score_df"
   ]
  },
  {
   "cell_type": "code",
   "execution_count": 65,
   "metadata": {},
   "outputs": [
    {
     "data": {
      "text/plain": [
       "(array([[0.9023951 , 0.02557176, 0.01980911, 0.05222402],\n",
       "        [0.53884712, 0.0952381 , 0.16541353, 0.20050125],\n",
       "        [0.3902439 , 0.08536585, 0.19512195, 0.32926829],\n",
       "        [0.3       , 0.07272727, 0.13636364, 0.49090909]]),\n",
       " array([[0.46126761, 0.13820423, 0.19190141, 0.20862676],\n",
       "        [0.22340426, 0.33687943, 0.27304965, 0.16666667],\n",
       "        [0.15      , 0.25      , 0.39285714, 0.20714286],\n",
       "        [0.20540541, 0.20540541, 0.21081081, 0.37837838]]))"
      ]
     },
     "execution_count": 65,
     "metadata": {},
     "output_type": "execute_result"
    }
   ],
   "source": [
    "conf_mats_t6['RF_multi_gini_top25_features_1990_2015.pkl'][0.0001], conf_mats_t3['RF_gini_top30_features_1990_2005.pkl'][10]"
   ]
  },
  {
   "cell_type": "markdown",
   "metadata": {},
   "source": [
    "# Deep dive into winning test -- test 5"
   ]
  },
  {
   "cell_type": "code",
   "execution_count": 47,
   "metadata": {},
   "outputs": [],
   "source": [
    "#initiate DF to store all scores for test 5\n",
    "colummns_t5 = ['list','C', 'EV', 'AUC', 'Recall_bf']\n",
    "t5_df = pd.DataFrame(columns=colummns_t5)\n",
    "\n",
    "#for each parameter get the various scores in a df\n",
    "for j in range(len(feat_list_keys)):\n",
    "    for k in range(len(cs)):\n",
    "        temp_df = pd.DataFrame([[feat_list_keys[j],\n",
    "                                 cs[k],\n",
    "                                 evs_t5[feat_list_keys[j]][cs[k]],\n",
    "                                 aucs_t5[feat_list_keys[j]][cs[k]],\n",
    "                                 conf_mats_t5[feat_list_keys[j]][cs[k]][3][3]]],\n",
    "                               columns=colummns_t5)\n",
    "        t5_df = t5_df.append(temp_df)"
   ]
  },
  {
   "cell_type": "code",
   "execution_count": 48,
   "metadata": {},
   "outputs": [
    {
     "data": {
      "image/png": "[encoded data removed]",
      "text/plain": [
       "<Figure size 576x432 with 1 Axes>"
      ]
     },
     "metadata": {
      "needs_background": "light"
     },
     "output_type": "display_data"
    },
    {
     "data": {
      "text/plain": [
       "list         RF_entropy_top30_features.pkl\n",
       "C                                      0.1\n",
       "EV                                 -0.8828\n",
       "AUC                               0.850484\n",
       "Recall_bf                         0.504545\n",
       "Name: 0, dtype: object"
      ]
     },
     "execution_count": 48,
     "metadata": {},
     "output_type": "execute_result"
    }
   ],
   "source": [
    "#get best index\n",
    "ind_max = np.argmax(t5_df['EV'])\n",
    "\n",
    "#plot bubble chart\n",
    "plt.figure(figsize=(8,6))\n",
    "plt.title('AUC vs Expected Value vs Big Fire Recall: Test 5 (bubble size=recall)')\n",
    "plt.xlabel('AUC')\n",
    "plt.ylabel('Expected Value')\n",
    "plt.scatter(t5_df['AUC'], t5_df['EV'],s=t5_df['Recall_bf']*1000)\n",
    "plt.scatter(t5_df.iloc[ind_max]['AUC'], t5_df.iloc[ind_max]['EV'], s=t5_df.iloc[ind_max]['Recall_bf']*1000, c='red')\n",
    "plt.show()\n",
    "\n",
    "np.argmax(t5_df['EV'])\n",
    "t5_df.iloc[ind_max]"
   ]
  },
  {
   "cell_type": "code",
   "execution_count": 49,
   "metadata": {},
   "outputs": [
    {
     "data": {
      "image/png": "[encoded data removed]",
      "text/plain": [
       "<Figure size 576x432 with 1 Axes>"
      ]
     },
     "metadata": {
      "needs_background": "light"
     },
     "output_type": "display_data"
    }
   ],
   "source": [
    "ind_max2 = np.argmax(top_score_df['EV'])\n",
    "\n",
    "#plot bubble chart\n",
    "plt.figure(figsize=(8,6))\n",
    "plt.suptitle('Avg Class AUC vs Expected Value vs Big Fire Recall')\n",
    "plt.title('bubble size=recall')\n",
    "plt.xlabel('AUC')\n",
    "plt.ylabel('Expected Value')\n",
    "plt.scatter(top_score_df['AUC'], top_score_df['EV'], s=top_score_df['Recall_bf']*2000)\n",
    "plt.scatter(top_score_df.iloc[ind_max2]['AUC'], top_score_df.iloc[ind_max2]['EV'], \n",
    "            s=top_score_df.iloc[ind_max2]['Recall_bf']*2000, c='red')\n",
    "plt.show()"
   ]
  },
  {
   "cell_type": "code",
   "execution_count": 50,
   "metadata": {},
   "outputs": [
    {
     "name": "stdout",
     "output_type": "stream",
     "text": [
      "Best model confusion matrix:\n",
      "[[0.68251396 0.11687376 0.09598415 0.10462813]\n",
      " [0.13283208 0.3283208  0.30827068 0.23057644]\n",
      " [0.07317073 0.24390244 0.37804878 0.30487805]\n",
      " [0.04090909 0.2        0.25454545 0.50454545]]\n"
     ]
    }
   ],
   "source": [
    "#get best test confusion matrix\n",
    "print(\"Best model confusion matrix:\")\n",
    "print(conf_mats_t5['RF_entropy_top30_features.pkl'][0.1])"
   ]
  },
  {
   "cell_type": "code",
   "execution_count": 51,
   "metadata": {},
   "outputs": [],
   "source": [
    "#re-run best model to send to pickle\n",
    "    #logistic regression with C=0.1\n",
    "    #feature list - 'RF_gini_top30_features_1990_2005.pkl'\n",
    "    #includes feature of predicted phase 1\n",
    "\n",
    "#prep final train data    \n",
    "feats_final = features['RF_entropy_top30_features.pkl'].copy()\n",
    "feats_final.append('preds')\n",
    "X_final = X_ph2_scaled_ysize[feats_final]\n",
    "X_final    \n",
    "\n",
    "#run this model\n",
    "lr_final = LogisticRegression(C=0.1, max_iter=1500, class_weight = 'balanced').fit(X_final, \n",
    "                                                                                   Y_ph2_cl_size.to_numpy().ravel())"
   ]
  },
  {
   "cell_type": "code",
   "execution_count": 52,
   "metadata": {},
   "outputs": [],
   "source": [
    "##Output best LR model:\n",
    "#with open(os.path.join(model_dir, 'Ensemble_LR_30entropy+preds_ph2.pkl'), 'wb') as handle:\n",
    "    #pickle.dump(lr_final, handle)"
   ]
  },
  {
   "cell_type": "code",
   "execution_count": 53,
   "metadata": {},
   "outputs": [],
   "source": [
    "#get test set to use with \"baseline mode\"\n",
    "X_sub3 = X_phase3_scaled[features['RF_multi_gini_top25_features_1990_2015.pkl']]\n",
    "\n",
    "\n",
    "#use non-ensembled multi-class\n",
    "model_nonphased = models['LR_multiclass_25gini_1990_2015.pkl']\n",
    "\n",
    "#get preds\n",
    "baseline_preds = model_nonphased.predict(X_sub3)\n",
    "baseline_conf = confusion_matrix(Y_ph3_cl_size, baseline_preds)\n",
    "baseline_conf_scaled = confusion_matrix(Y_ph3_cl_size, baseline_preds, normalize='true')\n",
    "baseline_ev = EV_multi(Y_ph3_cl_size, baseline_preds, classes, cost_mat)"
   ]
  },
  {
   "cell_type": "code",
   "execution_count": 54,
   "metadata": {},
   "outputs": [
    {
     "data": {
      "image/png": "[encoded data removed]",
      "text/plain": [
       "<Figure size 576x432 with 1 Axes>"
      ]
     },
     "metadata": {
      "needs_background": "light"
     },
     "output_type": "display_data"
    }
   ],
   "source": [
    "#make the bar chart of predicted vs actuals\n",
    "mat_to_use = conf_mats_tot_t5['RF_entropy_top30_features.pkl'][0.1]\n",
    "truth = np.sum(mat_to_use, axis=1)\n",
    "prediction = np.sum(mat_to_use, axis=0)\n",
    "\n",
    "\n",
    "#plots\n",
    "fig = plt.figure(figsize=(8,6))\n",
    "ax = fig.add_subplot(111)\n",
    "plt.suptitle('Fires by Size Classification', fontsize=14)\n",
    "width=0.35\n",
    "truth_bar = ax.bar(lr_final.classes_, truth, width, color='royalblue')\n",
    "pred_bar = ax.bar(lr_final.classes_+width, prediction, width, color='skyblue')\n",
    "\n",
    "#labels\n",
    "ax.set_ylabel('Fires')\n",
    "ax.set_xlabel('Size Class')\n",
    "ax.set_title('EV=-0.883, Avg AUC=0.850, Big Fire Recall=50.4%')\n",
    "ax.set_xticks(lr_final.classes_ + width / 2)\n",
    "ax.set_xticklabels( ('0', '1', '2', '3') )\n",
    "\n",
    "ax.legend((truth_bar[0], pred_bar[0]), ('Actuals', 'Predictions'))\n",
    "\n",
    "plt.show()"
   ]
  },
  {
   "cell_type": "code",
   "execution_count": 55,
   "metadata": {},
   "outputs": [
    {
     "data": {
      "image/png": "[encoded data removed]",
      "text/plain": [
       "<Figure size 576x432 with 1 Axes>"
      ]
     },
     "metadata": {
      "needs_background": "light"
     },
     "output_type": "display_data"
    }
   ],
   "source": [
    "#plot the graph\n",
    "#make the bar chart of predicted_baseline vs predicted_ensemble\n",
    "prediction_base = np.sum(baseline_conf, axis=0)\n",
    "prediction_phased = np.sum(mat_to_use, axis=0)\n",
    "\n",
    "\n",
    "#plots\n",
    "fig = plt.figure(figsize=(8,6))\n",
    "ax = fig.add_subplot(111)\n",
    "plt.suptitle('Fires by Size Classification', fontsize=14)\n",
    "width=0.35\n",
    "pred_base_bar = ax.bar(lr_final.classes_, prediction_base, width, color='royalblue')\n",
    "pred_phased_bar = ax.bar(lr_final.classes_+width, prediction_phased, width, color='skyblue')\n",
    "\n",
    "#labels\n",
    "ax.set_ylabel('Fires')\n",
    "ax.set_xlabel('Size Class')\n",
    "#ax.set_title('EV=-0.883, Avg AUC=0.850, Big Fire Recall=50.4%')\n",
    "ax.set_xticks(lr_final.classes_ + width / 2)\n",
    "ax.set_xticklabels( ('0', '1', '2', '3') )\n",
    "\n",
    "ax.legend((pred_base_bar[0], pred_phased_bar[0]), ('Baseline', 'Phased'))\n",
    "\n",
    "plt.show()"
   ]
  },
  {
   "cell_type": "code",
   "execution_count": 56,
   "metadata": {},
   "outputs": [
    {
     "name": "stdout",
     "output_type": "stream",
     "text": [
      "baseline preds by class: [4044  842  670  780]\n",
      "phased preds by class: [3864  864  774  834]\n",
      "diff by class: [-180   22  104   54]\n"
     ]
    }
   ],
   "source": [
    "print(\"baseline preds by class:\",np.sum(baseline_conf, axis=0))\n",
    "print(\"phased preds by class:\",np.sum(mat_to_use, axis=0))\n",
    "print(\"diff by class:\",np.sum(mat_to_use, axis=0)-np.sum(baseline_conf, axis=0))"
   ]
  },
  {
   "cell_type": "code",
   "execution_count": 57,
   "metadata": {},
   "outputs": [
    {
     "name": "stdout",
     "output_type": "stream",
     "text": [
      "Correct preds by class, baseline: [3938  113   66  110]\n",
      "Correct preds by class, phased: [3790  131   62  111]\n",
      "Diff by class: [-148   18   -4    1]\n"
     ]
    }
   ],
   "source": [
    "#want number of correct big fires predicted\n",
    "print(\"Correct preds by class, baseline:\",np.diag(baseline_conf))\n",
    "print(\"Correct preds by class, phased:\",np.diag(mat_to_use))\n",
    "print(\"Diff by class:\",np.diag(mat_to_use)-np.diag(baseline_conf))"
   ]
  }
 ],
 "metadata": {
  "kernelspec": {
   "display_name": "Python 3",
   "language": "python",
   "name": "python3"
  },
  "language_info": {
   "codemirror_mode": {
    "name": "ipython",
    "version": 3
   },
   "file_extension": ".py",
   "mimetype": "text/x-python",
   "name": "python",
   "nbconvert_exporter": "python",
   "pygments_lexer": "ipython3",
   "version": "3.8.6"
  }
 },
 "nbformat": 4,
 "nbformat_minor": 4
}
