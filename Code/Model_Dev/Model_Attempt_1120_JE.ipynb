{
 "cells": [
  {
   "cell_type": "code",
   "execution_count": 36,
   "metadata": {},
   "outputs": [],
   "source": [
    "#import packages\n",
    "from sklearn.ensemble import RandomForestClassifier, GradientBoostingClassifier, RandomForestRegressor\n",
    "from sklearn.metrics import accuracy_score, confusion_matrix, classification_report, mean_squared_error, roc_auc_score, roc_curve\n",
    "from sklearn.datasets import make_regression"
   ]
  },
  {
   "cell_type": "code",
   "execution_count": 2,
   "metadata": {},
   "outputs": [],
   "source": [
    "#import packages\n",
    "import pandas as pd  # provides interface for interacting with tabular data\n",
    "import geopandas as gpd  # combines the capabilities of pandas and shapely for geospatial operations\n",
    "import rtree  # supports geospatial join\n",
    "import os\n",
    "import fnmatch\n",
    "import numpy as np\n",
    "import matplotlib.pyplot as plt\n",
    "import sys\n",
    "import pickle\n",
    "from shapely.ops import nearest_points\n",
    "from datetime import datetime as dt, date\n",
    "sys.path.append('/Users/jackepstein/Documents/GitHub/wildfires-1001/code/functions/')\n",
    "data_dir = '/Users/jackepstein/Documents/GitHub/wildfires-1001/data'\n",
    "code_dir = '/Users/jackepstein/Documents/GitHub/wildfires-1001/code'"
   ]
  },
  {
   "cell_type": "markdown",
   "metadata": {},
   "source": [
    "# Pull in main data frame"
   ]
  },
  {
   "cell_type": "code",
   "execution_count": 3,
   "metadata": {},
   "outputs": [],
   "source": [
    "#pull in the target data frame and weather dictionary \n",
    "#make sure to change the pkl file name if needed\n",
    "target_dict = {}\n",
    "target_df = gpd.GeoDataFrame()\n",
    "for i in np.arange(1, 3):\n",
    "    target_dict[i] = pd.read_pickle(os.path.join(data_dir, f'clean_data/target_df_final_geo_1122_weathereng_{i}.pkl')) \n",
    "    target_df = target_df.append(target_dict[i])\n",
    "\n",
    "\n",
    "weather_dict_path = os.path.join(data_dir, 'clean_data/ERA_weather-data/ERA_rename_dictionary.pkl')"
   ]
  },
  {
   "cell_type": "code",
   "execution_count": 4,
   "metadata": {},
   "outputs": [],
   "source": [
    "#load the naming dictionary\n",
    "with open(weather_dict_path, 'rb') as handle:\n",
    "    rename_dict = pickle.load(handle)"
   ]
  },
  {
   "cell_type": "code",
   "execution_count": 5,
   "metadata": {},
   "outputs": [],
   "source": [
    "#rename the columns based on this dictionary\n",
    "target_df.rename(columns = rename_dict, inplace = True)"
   ]
  },
  {
   "cell_type": "code",
   "execution_count": 6,
   "metadata": {},
   "outputs": [],
   "source": [
    "#create lists of columns to drop and what our targets are\n",
    "non_mod_cols = ['GRID_ID','month_id','MONTH','COUNTYFP','NAME','GRID_AREA','COUNTY_ARE','COUNTY_AREA',\n",
    "                'geometry', 'adj_fire_count','adj_fire_bcount', 'Fire_area','Index','index']\n",
    "bad_features = ['hist_p_time_1m', 'total_fire_days', 'hist_p_time_1y']\n",
    "Y_cols = ['Y_bin', 'Y_fire_count', 'Y_fire_area_prop', 'Y_fire_class_size']"
   ]
  },
  {
   "cell_type": "code",
   "execution_count": 7,
   "metadata": {},
   "outputs": [],
   "source": [
    "#convert floats from 64 to 32 for model\n",
    "for col in target_df.columns:\n",
    "    if target_df[col].dtypes == 'float64':\n",
    "        target_df[col] = target_df[col].astype(np.float32)"
   ]
  },
  {
   "cell_type": "markdown",
   "metadata": {},
   "source": [
    "# Split training and testing data"
   ]
  },
  {
   "cell_type": "code",
   "execution_count": 8,
   "metadata": {},
   "outputs": [],
   "source": [
    "#generate training data set\n",
    "#pre 2016\n",
    "train_data = target_df[target_df['YEAR']<=2016]\n",
    "X_train = train_data.drop('YEAR', axis = 1)\n",
    "#drop columns not used for modeling\n",
    "for y in Y_cols + non_mod_cols + bad_features:\n",
    "    try:\n",
    "        X_train.drop(y, inplace = True, axis =1)\n",
    "    except:\n",
    "        pass\n",
    "#set up target variable\n",
    "Y_train = train_data[['Y_fire_area_prop']]\n",
    "Y_train_cl = train_data[['Y_bin']]\n",
    "Y_train_cl_size = train_data[['Y_fire_class_size']]\n",
    "\n",
    "#generate testing data set - same logic as above\n",
    "test_data = target_df[target_df['YEAR']>2016]\n",
    "X_test = test_data.drop('YEAR', axis = 1)\n",
    "for y in Y_cols + non_mod_cols + bad_features:\n",
    "    try:\n",
    "        X_test.drop(y, inplace = True, axis =1)\n",
    "    except:\n",
    "        pass\n",
    "Y_test = test_data[['Y_fire_area_prop']] \n",
    "Y_test_cl = test_data[['Y_bin']]\n",
    "Y_test_cl_size = test_data[['Y_fire_class_size']]"
   ]
  },
  {
   "cell_type": "code",
   "execution_count": 9,
   "metadata": {},
   "outputs": [
    {
     "data": {
      "text/plain": [
       "0.0"
      ]
     },
     "execution_count": 9,
     "metadata": {},
     "output_type": "execute_result"
    }
   ],
   "source": [
    "#check for any null values\n",
    "\n",
    "#null vals array\n",
    "null = np.zeros(len(X_train.columns))\n",
    "\n",
    "for i in range(len(X_train.columns)):\n",
    "    null[i] = X_train.loc[X_train[X_train.columns[i]].isna()].shape[0]\n",
    "    \n",
    "np.sum(null)"
   ]
  },
  {
   "cell_type": "markdown",
   "metadata": {},
   "source": [
    "# Build OOB RF - Regression"
   ]
  },
  {
   "cell_type": "code",
   "execution_count": 21,
   "metadata": {},
   "outputs": [
    {
     "data": {
      "text/plain": [
       "RandomForestRegressor()"
      ]
     },
     "execution_count": 21,
     "metadata": {},
     "output_type": "execute_result"
    }
   ],
   "source": [
    "#fit the regression model\n",
    "rf = RandomForestRegressor()\n",
    "rf.fit(X_train,Y_train.to_numpy().ravel())"
   ]
  },
  {
   "cell_type": "code",
   "execution_count": 22,
   "metadata": {},
   "outputs": [],
   "source": [
    "#turn y and prediction into arrays\n",
    "preds_arrays = rf.predict(X_test)\n",
    "y_test_arr = Y_test.to_numpy()"
   ]
  },
  {
   "cell_type": "code",
   "execution_count": 23,
   "metadata": {},
   "outputs": [
    {
     "name": "stdout",
     "output_type": "stream",
     "text": [
      "R^2 value: 0.2591583288873326\n"
     ]
    },
    {
     "data": {
      "image/png": "[encoded data removed]",
      "text/plain": [
       "<Figure size 576x432 with 1 Axes>"
      ]
     },
     "metadata": {
      "needs_background": "light"
     },
     "output_type": "display_data"
    }
   ],
   "source": [
    "#plot predictions vs actuals\n",
    "plt.figure(figsize=(8,6))\n",
    "plt.scatter(preds_arrays, y_test_arr)\n",
    "plt.title('Scatter of predictions')\n",
    "plt.xlabel('Predicted Area %')\n",
    "plt.ylabel('Actual Area %')\n",
    "#check R^2 value\n",
    "print(\"R^2 value:\",rf.score(X_test, Y_test))\n",
    "plt.show()"
   ]
  },
  {
   "cell_type": "code",
   "execution_count": 25,
   "metadata": {},
   "outputs": [
    {
     "data": {
      "text/html": [
       "<div>\n",
       "<style scoped>\n",
       "    .dataframe tbody tr th:only-of-type {\n",
       "        vertical-align: middle;\n",
       "    }\n",
       "\n",
       "    .dataframe tbody tr th {\n",
       "        vertical-align: top;\n",
       "    }\n",
       "\n",
       "    .dataframe thead th {\n",
       "        text-align: right;\n",
       "    }\n",
       "</style>\n",
       "<table border=\"1\" class=\"dataframe\">\n",
       "  <thead>\n",
       "    <tr style=\"text-align: right;\">\n",
       "      <th></th>\n",
       "      <th>feature</th>\n",
       "      <th>feature_score</th>\n",
       "    </tr>\n",
       "  </thead>\n",
       "  <tbody>\n",
       "    <tr>\n",
       "      <th>68</th>\n",
       "      <td>Y_fire_area_prop_prev_month</td>\n",
       "      <td>0.387149</td>\n",
       "    </tr>\n",
       "    <tr>\n",
       "      <th>120</th>\n",
       "      <td>2m_tmp_18hrs_5y</td>\n",
       "      <td>0.027129</td>\n",
       "    </tr>\n",
       "    <tr>\n",
       "      <th>169</th>\n",
       "      <td>month_id_old</td>\n",
       "      <td>0.024387</td>\n",
       "    </tr>\n",
       "    <tr>\n",
       "      <th>55</th>\n",
       "      <td>2m_tmp_18hrs</td>\n",
       "      <td>0.022673</td>\n",
       "    </tr>\n",
       "    <tr>\n",
       "      <th>47</th>\n",
       "      <td>2m_tmp_12hrs</td>\n",
       "      <td>0.018708</td>\n",
       "    </tr>\n",
       "    <tr>\n",
       "      <th>...</th>\n",
       "      <td>...</td>\n",
       "      <td>...</td>\n",
       "    </tr>\n",
       "    <tr>\n",
       "      <th>67</th>\n",
       "      <td>Y_fire_class_size_prev_10yr</td>\n",
       "      <td>0.000165</td>\n",
       "    </tr>\n",
       "    <tr>\n",
       "      <th>63</th>\n",
       "      <td>hist_bin_10y</td>\n",
       "      <td>0.000041</td>\n",
       "    </tr>\n",
       "    <tr>\n",
       "      <th>61</th>\n",
       "      <td>hist_bin_1y</td>\n",
       "      <td>0.000037</td>\n",
       "    </tr>\n",
       "    <tr>\n",
       "      <th>60</th>\n",
       "      <td>hist_bin_1m</td>\n",
       "      <td>0.000029</td>\n",
       "    </tr>\n",
       "    <tr>\n",
       "      <th>62</th>\n",
       "      <td>hist_bin_5y</td>\n",
       "      <td>0.000024</td>\n",
       "    </tr>\n",
       "  </tbody>\n",
       "</table>\n",
       "<p>170 rows × 2 columns</p>\n",
       "</div>"
      ],
      "text/plain": [
       "                         feature  feature_score\n",
       "68   Y_fire_area_prop_prev_month       0.387149\n",
       "120              2m_tmp_18hrs_5y       0.027129\n",
       "169                 month_id_old       0.024387\n",
       "55                  2m_tmp_18hrs       0.022673\n",
       "47                  2m_tmp_12hrs       0.018708\n",
       "..                           ...            ...\n",
       "67   Y_fire_class_size_prev_10yr       0.000165\n",
       "63                  hist_bin_10y       0.000041\n",
       "61                   hist_bin_1y       0.000037\n",
       "60                   hist_bin_1m       0.000029\n",
       "62                   hist_bin_5y       0.000024\n",
       "\n",
       "[170 rows x 2 columns]"
      ]
     },
     "execution_count": 25,
     "metadata": {},
     "output_type": "execute_result"
    }
   ],
   "source": [
    "features = pd.DataFrame()\n",
    "features['feature'] = X_test.columns\n",
    "features['feature_score'] = rf.feature_importances_\n",
    "features.sort_values(by='feature_score', ascending=False)"
   ]
  },
  {
   "cell_type": "code",
   "execution_count": 26,
   "metadata": {},
   "outputs": [],
   "source": [
    "#send RF regressor to pick\n",
    "\n",
    "rf_load_path = os.path.join(code_dir, 'model_dev/baseline2_RFregressor_1121JE')\n",
    "\n",
    "pickle.dump(rf, open(rf_load_path, \"wb\"))"
   ]
  },
  {
   "cell_type": "markdown",
   "metadata": {},
   "source": [
    "# Build OOB Random Forest - Class"
   ]
  },
  {
   "cell_type": "code",
   "execution_count": 11,
   "metadata": {},
   "outputs": [
    {
     "data": {
      "text/plain": [
       "RandomForestClassifier()"
      ]
     },
     "execution_count": 11,
     "metadata": {},
     "output_type": "execute_result"
    }
   ],
   "source": [
    "rf_clf = RandomForestClassifier()\n",
    "rf_clf.fit(X_train,Y_train_cl.to_numpy().ravel())"
   ]
  },
  {
   "cell_type": "code",
   "execution_count": 12,
   "metadata": {},
   "outputs": [
    {
     "data": {
      "text/plain": [
       "array([[2912,   98],\n",
       "       [ 343,  211]])"
      ]
     },
     "execution_count": 12,
     "metadata": {},
     "output_type": "execute_result"
    }
   ],
   "source": [
    "y_test_cl_arr = Y_test_cl.to_numpy()\n",
    "preds_clf = rf_clf.predict(X_test)\n",
    "\n",
    "#plot confusion\n",
    "confusion_matrix(y_test_cl_arr, preds_clf)\n",
    "\n",
    "#get precision and recall scores"
   ]
  },
  {
   "cell_type": "code",
   "execution_count": 13,
   "metadata": {},
   "outputs": [
    {
     "name": "stdout",
     "output_type": "stream",
     "text": [
      "              precision    recall  f1-score   support\n",
      "\n",
      "           0       0.89      0.97      0.93      3010\n",
      "           1       0.68      0.38      0.49       554\n",
      "\n",
      "    accuracy                           0.88      3564\n",
      "   macro avg       0.79      0.67      0.71      3564\n",
      "weighted avg       0.86      0.88      0.86      3564\n",
      "\n"
     ]
    }
   ],
   "source": [
    "#check precision and recall\n",
    "print(classification_report(y_test_cl_arr, preds_clf))"
   ]
  },
  {
   "cell_type": "code",
   "execution_count": 14,
   "metadata": {},
   "outputs": [
    {
     "data": {
      "text/html": [
       "<div>\n",
       "<style scoped>\n",
       "    .dataframe tbody tr th:only-of-type {\n",
       "        vertical-align: middle;\n",
       "    }\n",
       "\n",
       "    .dataframe tbody tr th {\n",
       "        vertical-align: top;\n",
       "    }\n",
       "\n",
       "    .dataframe thead th {\n",
       "        text-align: right;\n",
       "    }\n",
       "</style>\n",
       "<table border=\"1\" class=\"dataframe\">\n",
       "  <thead>\n",
       "    <tr style=\"text-align: right;\">\n",
       "      <th></th>\n",
       "      <th>feature</th>\n",
       "      <th>feature score</th>\n",
       "    </tr>\n",
       "  </thead>\n",
       "  <tbody>\n",
       "    <tr>\n",
       "      <th>64</th>\n",
       "      <td>Y_fire_class_size_prev_month</td>\n",
       "      <td>0.052023</td>\n",
       "    </tr>\n",
       "    <tr>\n",
       "      <th>68</th>\n",
       "      <td>Y_fire_area_prop_prev_month</td>\n",
       "      <td>0.043405</td>\n",
       "    </tr>\n",
       "    <tr>\n",
       "      <th>60</th>\n",
       "      <td>hist_bin_1m</td>\n",
       "      <td>0.034830</td>\n",
       "    </tr>\n",
       "    <tr>\n",
       "      <th>69</th>\n",
       "      <td>Y_fire_area_prop_prev_1yr</td>\n",
       "      <td>0.013724</td>\n",
       "    </tr>\n",
       "    <tr>\n",
       "      <th>169</th>\n",
       "      <td>month_id_old</td>\n",
       "      <td>0.013686</td>\n",
       "    </tr>\n",
       "    <tr>\n",
       "      <th>...</th>\n",
       "      <td>...</td>\n",
       "      <td>...</td>\n",
       "    </tr>\n",
       "    <tr>\n",
       "      <th>9</th>\n",
       "      <td>total_road_length</td>\n",
       "      <td>0.001573</td>\n",
       "    </tr>\n",
       "    <tr>\n",
       "      <th>8</th>\n",
       "      <td>road_count</td>\n",
       "      <td>0.001514</td>\n",
       "    </tr>\n",
       "    <tr>\n",
       "      <th>27</th>\n",
       "      <td>medianHHI2018</td>\n",
       "      <td>0.001434</td>\n",
       "    </tr>\n",
       "    <tr>\n",
       "      <th>4</th>\n",
       "      <td>elev_min</td>\n",
       "      <td>0.001414</td>\n",
       "    </tr>\n",
       "    <tr>\n",
       "      <th>63</th>\n",
       "      <td>hist_bin_10y</td>\n",
       "      <td>0.001402</td>\n",
       "    </tr>\n",
       "  </tbody>\n",
       "</table>\n",
       "<p>170 rows × 2 columns</p>\n",
       "</div>"
      ],
      "text/plain": [
       "                          feature  feature score\n",
       "64   Y_fire_class_size_prev_month       0.052023\n",
       "68    Y_fire_area_prop_prev_month       0.043405\n",
       "60                    hist_bin_1m       0.034830\n",
       "69      Y_fire_area_prop_prev_1yr       0.013724\n",
       "169                  month_id_old       0.013686\n",
       "..                            ...            ...\n",
       "9               total_road_length       0.001573\n",
       "8                      road_count       0.001514\n",
       "27                  medianHHI2018       0.001434\n",
       "4                        elev_min       0.001414\n",
       "63                   hist_bin_10y       0.001402\n",
       "\n",
       "[170 rows x 2 columns]"
      ]
     },
     "execution_count": 14,
     "metadata": {},
     "output_type": "execute_result"
    }
   ],
   "source": [
    "features_clf = pd.DataFrame()\n",
    "features_clf['feature'] = X_test.columns\n",
    "features_clf['feature score'] = rf_clf.feature_importances_\n",
    "features_clf.sort_values(by=['feature score'], ascending=False)"
   ]
  },
  {
   "cell_type": "markdown",
   "metadata": {},
   "source": [
    "# Try Clf only during fire season"
   ]
  },
  {
   "cell_type": "code",
   "execution_count": 27,
   "metadata": {},
   "outputs": [],
   "source": [
    "#try doing only on months in fire season\n",
    "#pick may - november\n",
    "fire_season = target_df.loc[target_df['MONTH']>=5].loc[target_df['MONTH']<=11]"
   ]
  },
  {
   "cell_type": "code",
   "execution_count": 28,
   "metadata": {},
   "outputs": [],
   "source": [
    "#generate training data set - on fire season\n",
    "#pre 2016\n",
    "train_data_v2 = fire_season[fire_season['YEAR']<=2016]\n",
    "X_train_v2 = train_data_v2.drop('YEAR', axis = 1)\n",
    "#drop columns not used for modeling\n",
    "for y in Y_cols + non_mod_cols + bad_features:\n",
    "    try:\n",
    "        X_train_v2.drop(y, inplace = True, axis =1)\n",
    "    except:\n",
    "        pass\n",
    "#set up target variable\n",
    "Y_train_cl_v2 = train_data_v2[['Y_bin']]\n",
    "\n",
    "#generate testing data set - same logic as above\n",
    "test_data_v2 = fire_season[fire_season['YEAR']>2016]\n",
    "X_test_v2 = test_data_v2.drop('YEAR', axis = 1)\n",
    "for y in Y_cols + non_mod_cols + bad_features:\n",
    "    try:\n",
    "        X_test_v2.drop(y, inplace = True, axis =1)\n",
    "    except:\n",
    "        pass\n",
    "Y_test_cl_v2 = test_data_v2[['Y_bin']]"
   ]
  },
  {
   "cell_type": "code",
   "execution_count": 29,
   "metadata": {},
   "outputs": [
    {
     "data": {
      "text/plain": [
       "RandomForestClassifier()"
      ]
     },
     "execution_count": 29,
     "metadata": {},
     "output_type": "execute_result"
    }
   ],
   "source": [
    "#oob Random forest\n",
    "rf_clf_2 = RandomForestClassifier()\n",
    "rf_clf_2.fit(X_train_v2,Y_train_cl_v2.to_numpy().ravel())"
   ]
  },
  {
   "cell_type": "code",
   "execution_count": 30,
   "metadata": {},
   "outputs": [
    {
     "data": {
      "text/plain": [
       "array([[1493,   98],\n",
       "       [ 286,  202]])"
      ]
     },
     "execution_count": 30,
     "metadata": {},
     "output_type": "execute_result"
    }
   ],
   "source": [
    "y_test_cl_arr_2 = Y_test_cl_v2.to_numpy()\n",
    "preds_clf_2 = rf_clf_2.predict(X_test_v2)\n",
    "\n",
    "#plot confusion\n",
    "confusion_matrix(y_test_cl_arr_2, preds_clf_2)"
   ]
  },
  {
   "cell_type": "code",
   "execution_count": 31,
   "metadata": {},
   "outputs": [
    {
     "name": "stdout",
     "output_type": "stream",
     "text": [
      "              precision    recall  f1-score   support\n",
      "\n",
      "           0       0.84      0.94      0.89      1591\n",
      "           1       0.67      0.41      0.51       488\n",
      "\n",
      "    accuracy                           0.82      2079\n",
      "   macro avg       0.76      0.68      0.70      2079\n",
      "weighted avg       0.80      0.82      0.80      2079\n",
      "\n"
     ]
    }
   ],
   "source": [
    "print(classification_report(y_test_cl_arr_2, preds_clf_2))"
   ]
  },
  {
   "cell_type": "code",
   "execution_count": 32,
   "metadata": {},
   "outputs": [
    {
     "data": {
      "text/html": [
       "<div>\n",
       "<style scoped>\n",
       "    .dataframe tbody tr th:only-of-type {\n",
       "        vertical-align: middle;\n",
       "    }\n",
       "\n",
       "    .dataframe tbody tr th {\n",
       "        vertical-align: top;\n",
       "    }\n",
       "\n",
       "    .dataframe thead th {\n",
       "        text-align: right;\n",
       "    }\n",
       "</style>\n",
       "<table border=\"1\" class=\"dataframe\">\n",
       "  <thead>\n",
       "    <tr style=\"text-align: right;\">\n",
       "      <th></th>\n",
       "      <th>feature</th>\n",
       "      <th>feature score</th>\n",
       "    </tr>\n",
       "  </thead>\n",
       "  <tbody>\n",
       "    <tr>\n",
       "      <th>68</th>\n",
       "      <td>Y_fire_area_prop_prev_month</td>\n",
       "      <td>0.040891</td>\n",
       "    </tr>\n",
       "    <tr>\n",
       "      <th>64</th>\n",
       "      <td>Y_fire_class_size_prev_month</td>\n",
       "      <td>0.039406</td>\n",
       "    </tr>\n",
       "    <tr>\n",
       "      <th>60</th>\n",
       "      <td>hist_bin_1m</td>\n",
       "      <td>0.034562</td>\n",
       "    </tr>\n",
       "    <tr>\n",
       "      <th>169</th>\n",
       "      <td>month_id_old</td>\n",
       "      <td>0.017088</td>\n",
       "    </tr>\n",
       "    <tr>\n",
       "      <th>72</th>\n",
       "      <td>tot_area_fire_prev_1yr</td>\n",
       "      <td>0.016601</td>\n",
       "    </tr>\n",
       "    <tr>\n",
       "      <th>...</th>\n",
       "      <td>...</td>\n",
       "      <td>...</td>\n",
       "    </tr>\n",
       "    <tr>\n",
       "      <th>8</th>\n",
       "      <td>road_count</td>\n",
       "      <td>0.001710</td>\n",
       "    </tr>\n",
       "    <tr>\n",
       "      <th>0</th>\n",
       "      <td>elev_mean</td>\n",
       "      <td>0.001702</td>\n",
       "    </tr>\n",
       "    <tr>\n",
       "      <th>9</th>\n",
       "      <td>total_road_length</td>\n",
       "      <td>0.001434</td>\n",
       "    </tr>\n",
       "    <tr>\n",
       "      <th>27</th>\n",
       "      <td>medianHHI2018</td>\n",
       "      <td>0.001283</td>\n",
       "    </tr>\n",
       "    <tr>\n",
       "      <th>4</th>\n",
       "      <td>elev_min</td>\n",
       "      <td>0.001178</td>\n",
       "    </tr>\n",
       "  </tbody>\n",
       "</table>\n",
       "<p>170 rows × 2 columns</p>\n",
       "</div>"
      ],
      "text/plain": [
       "                          feature  feature score\n",
       "68    Y_fire_area_prop_prev_month       0.040891\n",
       "64   Y_fire_class_size_prev_month       0.039406\n",
       "60                    hist_bin_1m       0.034562\n",
       "169                  month_id_old       0.017088\n",
       "72         tot_area_fire_prev_1yr       0.016601\n",
       "..                            ...            ...\n",
       "8                      road_count       0.001710\n",
       "0                       elev_mean       0.001702\n",
       "9               total_road_length       0.001434\n",
       "27                  medianHHI2018       0.001283\n",
       "4                        elev_min       0.001178\n",
       "\n",
       "[170 rows x 2 columns]"
      ]
     },
     "execution_count": 32,
     "metadata": {},
     "output_type": "execute_result"
    }
   ],
   "source": [
    "features_clf2 = pd.DataFrame()\n",
    "features_clf2['feature'] = X_test.columns\n",
    "features_clf2['feature score'] = rf_clf_2.feature_importances_\n",
    "features_clf2.sort_values(by=['feature score'], ascending=False)"
   ]
  },
  {
   "cell_type": "markdown",
   "metadata": {},
   "source": [
    "# Attempting Gradient Boosting"
   ]
  },
  {
   "cell_type": "code",
   "execution_count": 17,
   "metadata": {},
   "outputs": [
    {
     "data": {
      "text/plain": [
       "GradientBoostingClassifier(max_depth=2, n_estimators=1000)"
      ]
     },
     "execution_count": 17,
     "metadata": {},
     "output_type": "execute_result"
    }
   ],
   "source": [
    "#starting with max depth=2 and 1,000 n_estimators\n",
    "n_est_lim = 1000\n",
    "gbc = GradientBoostingClassifier(n_estimators = n_est_lim, max_depth = 2)\n",
    "gbc.fit(X_train, Y_train_cl.to_numpy().ravel())"
   ]
  },
  {
   "cell_type": "code",
   "execution_count": 47,
   "metadata": {},
   "outputs": [
    {
     "name": "stdout",
     "output_type": "stream",
     "text": [
      "[[2825  185]\n",
      " [ 303  251]]\n",
      "              precision    recall  f1-score   support\n",
      "\n",
      "           0       0.90      0.94      0.92      3010\n",
      "           1       0.58      0.45      0.51       554\n",
      "\n",
      "    accuracy                           0.86      3564\n",
      "   macro avg       0.74      0.70      0.71      3564\n",
      "weighted avg       0.85      0.86      0.86      3564\n",
      "\n"
     ]
    }
   ],
   "source": [
    "y_test_cl_arr\n",
    "preds_gbc = gbc.predict(X_test)\n",
    "preds_gbc_prob = gbc.predict_proba(X_test)\n",
    "\n",
    "#plot confusion\n",
    "print(confusion_matrix(y_test_cl_arr,preds_gbc))\n",
    "\n",
    "#get precision and recall scores\n",
    "print(classification_report(y_test_cl_arr, preds_gbc))"
   ]
  },
  {
   "cell_type": "code",
   "execution_count": 19,
   "metadata": {},
   "outputs": [
    {
     "data": {
      "text/plain": [
       "<matplotlib.legend.Legend at 0x7fcb9cd08250>"
      ]
     },
     "execution_count": 19,
     "metadata": {},
     "output_type": "execute_result"
    },
    {
     "data": {
      "image/png": "[encoded data removed]",
      "text/plain": [
       "<Figure size 432x288 with 1 Axes>"
      ]
     },
     "metadata": {
      "needs_background": "light"
     },
     "output_type": "display_data"
    }
   ],
   "source": [
    "#plot seeing if we overfit\n",
    "\n",
    "#define a log loss function\n",
    "def LogLossP(Pt, Yt):\n",
    "    return -1*((Yt==1)*np.log(Pt)+(Yt==0)*np.log(1-Pt)).mean()\n",
    "\n",
    "#get the probabilities at each iteration\n",
    "p_train = gbc.staged_predict_proba(X_train)\n",
    "p_test = gbc.staged_predict_proba(X_test)\n",
    "\n",
    "#initiate lists to store log loss\n",
    "ll_train = []\n",
    "ll_test = []\n",
    "\n",
    "#loop through each calculating log loss at each iterative tree\n",
    "for p in p_train:\n",
    "    ll_train.append(LogLossP(p[:, 1], Y_train_cl.to_numpy().ravel()))\n",
    "    \n",
    "for p in p_test:\n",
    "    ll_test.append(LogLossP(p[:, 1], Y_test_cl.to_numpy().ravel()))\n",
    "    \n",
    "#plot this\n",
    "fig = plt.figure()\n",
    "ax = fig.add_subplot(111)\n",
    "plt.plot(np.arange(1, n_est_lim + 1), ll_train, 'b-', label='Train')\n",
    "plt.plot(np.arange(1, n_est_lim + 1), ll_test, 'r-', label='Test')\n",
    "plt.title('Training and Testing Error as a Function of N-Estimators')\n",
    "plt.legend()"
   ]
  },
  {
   "cell_type": "code",
   "execution_count": 15,
   "metadata": {},
   "outputs": [
    {
     "data": {
      "text/plain": [
       "GradientBoostingClassifier(max_depth=2, n_estimators=200)"
      ]
     },
     "execution_count": 15,
     "metadata": {},
     "output_type": "execute_result"
    }
   ],
   "source": [
    "#starting with max depth=2 trying 200 trees\n",
    "gbc_2 = GradientBoostingClassifier(n_estimators = 200, max_depth = 2)\n",
    "gbc_2.fit(X_train, Y_train_cl.to_numpy().ravel())"
   ]
  },
  {
   "cell_type": "code",
   "execution_count": 42,
   "metadata": {},
   "outputs": [
    {
     "name": "stdout",
     "output_type": "stream",
     "text": [
      "[[2939   71]\n",
      " [ 333  221]]\n",
      "              precision    recall  f1-score   support\n",
      "\n",
      "           0       0.90      0.98      0.94      3010\n",
      "           1       0.76      0.40      0.52       554\n",
      "\n",
      "    accuracy                           0.89      3564\n",
      "   macro avg       0.83      0.69      0.73      3564\n",
      "weighted avg       0.88      0.89      0.87      3564\n",
      "\n"
     ]
    }
   ],
   "source": [
    "#checking for fewer trees\n",
    "y_test_cl_arr\n",
    "preds_gbc_2 = gbc_2.predict(X_test)\n",
    "preds_gbc_2_probs = gbc_2.predict_proba(X_test)\n",
    "\n",
    "#plot confusion\n",
    "print(confusion_matrix(y_test_cl_arr,preds_gbc_2))\n",
    "\n",
    "#get precision and recall scores\n",
    "print(classification_report(y_test_cl_arr, preds_gbc_2))"
   ]
  },
  {
   "cell_type": "markdown",
   "metadata": {},
   "source": [
    "the overall log loss is better with 200 trees, however those improvements come from precision, not recall"
   ]
  },
  {
   "cell_type": "code",
   "execution_count": 48,
   "metadata": {},
   "outputs": [],
   "source": [
    "#plot an auc curve\n",
    "auc_1000 = roc_auc_score(y_test_cl_arr,preds_gbc_prob[:,1])\n",
    "auc_200 = roc_auc_score(y_test_cl_arr,preds_gbc_2_probs[:,1])\n",
    "\n",
    "#get rocs\n",
    "fpr_1000, tpr_1000, thresh_1000 = roc_curve(y_test_cl_arr,preds_gbc_prob[:,1])\n",
    "fpr_200, tpr_200, thresh_200 = roc_curve(y_test_cl_arr,preds_gbc_2_probs[:,1])\n",
    "\n",
    "aucs = [auc_1000, auc_200]\n",
    "fprs = [fpr_1000, fpr_200]\n",
    "tprs = [tpr_1000, tpr_200]\n",
    "labels = ['1000 trees', '200 trees']"
   ]
  },
  {
   "cell_type": "code",
   "execution_count": 51,
   "metadata": {},
   "outputs": [
    {
     "data": {
      "image/png": "[encoded data removed]",
      "text/plain": [
       "<Figure size 576x432 with 1 Axes>"
      ]
     },
     "metadata": {
      "needs_background": "light"
     },
     "output_type": "display_data"
    }
   ],
   "source": [
    "#plot each of the 4 curves\n",
    "plt.figure(figsize=(8,6))\n",
    "for fpr, tpr, label, auc in zip(fprs, tprs, labels, aucs):\n",
    "    labauc = label+\" AUC - \"+str(round(auc,4))\n",
    "    plt.plot(fpr, tpr, label=labauc)\n",
    "    \n",
    "    \n",
    "plt.xlabel(\"fpr\")\n",
    "plt.ylabel(\"tpr\")\n",
    "plt.title(\"ROC Curves\")\n",
    "plt.legend(loc=\"lower right\")\n",
    "plt.show()    "
   ]
  },
  {
   "cell_type": "markdown",
   "metadata": {},
   "source": [
    "# OOB Gradient Boosting for Class Size"
   ]
  },
  {
   "cell_type": "code",
   "execution_count": 10,
   "metadata": {},
   "outputs": [
    {
     "name": "stdout",
     "output_type": "stream",
     "text": [
      "[[2953   22    9   12   14]\n",
      " [ 230   32    7    3    6]\n",
      " [ 110    4    6    4    4]\n",
      " [  44    9    1   11    1]\n",
      " [  35    3    3    7   34]]\n",
      "              precision    recall  f1-score   support\n",
      "\n",
      "           0       0.88      0.98      0.93      3010\n",
      "           1       0.46      0.12      0.18       278\n",
      "           2       0.23      0.05      0.08       128\n",
      "           3       0.30      0.17      0.21        66\n",
      "           4       0.58      0.41      0.48        82\n",
      "\n",
      "    accuracy                           0.85      3564\n",
      "   macro avg       0.49      0.34      0.38      3564\n",
      "weighted avg       0.80      0.85      0.81      3564\n",
      "\n"
     ]
    }
   ],
   "source": [
    "#classifying class sizing -- no hyperparameter tuning\n",
    "gbc_size_oob = GradientBoostingClassifier().fit(X_train, Y_train_cl_size.to_numpy().ravel())\n",
    "#checking for fewer trees\n",
    "preds_gbc_oob = gbc_size_oob.predict(X_test)\n",
    "\n",
    "\n",
    "\n",
    "#plot confusion\n",
    "print(confusion_matrix(Y_test_cl_size.to_numpy().ravel(),preds_gbc_oob))\n",
    "\n",
    "#get precision and recall scores\n",
    "print(classification_report(Y_test_cl_size.to_numpy().ravel(), preds_gbc_oob))"
   ]
  },
  {
   "cell_type": "code",
   "execution_count": 20,
   "metadata": {},
   "outputs": [],
   "source": [
    "#send all GBCs to pkls\n",
    "\n",
    "gbc1_load_path = os.path.join(code_dir, 'model_dev/GBCbin_1000trees_1122JE')\n",
    "pickle.dump(gbc, open(gbc1_load_path, \"wb\"))\n",
    "\n",
    "gbc2_load_path = os.path.join(code_dir, 'model_dev/GBCbin_200trees_1122JE')\n",
    "pickle.dump(gbc_2, open(gbc2_load_path, \"wb\"))\n",
    "\n",
    "gbc3_load_path = os.path.join(code_dir, 'model_dev/GBCsize_OOB_1122JE')\n",
    "pickle.dump(gbc_size_oob, open(gbc3_load_path, \"wb\"))"
   ]
  }
 ],
 "metadata": {
  "kernelspec": {
   "display_name": "Python 3",
   "language": "python",
   "name": "python3"
  },
  "language_info": {
   "codemirror_mode": {
    "name": "ipython",
    "version": 3
   },
   "file_extension": ".py",
   "mimetype": "text/x-python",
   "name": "python",
   "nbconvert_exporter": "python",
   "pygments_lexer": "ipython3",
   "version": "3.8.6"
  }
 },
 "nbformat": 4,
 "nbformat_minor": 4
}
