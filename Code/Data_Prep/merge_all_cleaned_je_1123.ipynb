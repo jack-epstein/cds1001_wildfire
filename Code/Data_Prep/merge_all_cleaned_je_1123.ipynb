{
 "cells": [
  {
   "cell_type": "markdown",
   "metadata": {},
   "source": [
    "# Pull in the main fire dataframe",<br>
    "### This is the notebook that will join all cleaned data into one dataframe to use for modeling"
   ]
  },
  {
   "cell_type": "code",
   "execution_count": 1,
   "metadata": {},
   "outputs": [],
   "source": [
    "#import packages\n",
    "import pandas as pd  # provides interface for interacting with tabular data\n",
    "import geopandas as gpd  # combines the capabilities of pandas and shapely for geospatial operations\n",
    "import rtree  # supports geospatial join\n",
    "import os\n",
    "import fnmatch\n",
    "import numpy as np\n",
    "import matplotlib.pyplot as plt\n",
    "import sys\n",
    "import pickle\n",
    "from shapely.ops import nearest_points\n",
    "from datetime import datetime as dt, date\n",
    "sys.path.append('/Users/jackepstein/Documents/GitHub/wildfires-1001/code/functions/')\n",
    "data_dir = '/Users/jackepstein/Documents/GitHub/wildfires-1001/data'"
   ]
  },
  {
   "cell_type": "code",
   "execution_count": 2,
   "metadata": {},
   "outputs": [],
   "source": [
    "#read in the target variables for fire\n",
    "target_df = {}\n",
    "full_target_data = gpd.GeoDataFrame()\n",
    "for i in np.arange(1, 5):\n",
    "    target_df[i] = pd.read_pickle(os.path.join(data_dir, f'clean_data/target_full_{i}.pkl')) \n",
    "    full_target_data = full_target_data.append(target_df[i])\n",
    "    \n",
    "#change data types\n",
    "full_target_data['COUNTYFP'] = full_target_data['COUNTYFP'].astype(int)\n",
    "full_target_data['GRID_ID'] = full_target_data['GRID_ID'].astype(int)\n",
    "full_target_data['YEAR'] = full_target_data['date'].apply(lambda x:x.year)  \n",
    "full_target_data['MONTH'] = full_target_data['date'].apply(lambda x:x.month)  \n",
    "\n",
    "#drop unneeded columns\n",
    "full_target_data2 = full_target_data.drop(columns=['date','month_start', 'month_end', 'week_id',\n",
    "                                                  'week_start', 'week_end', 'start_date', 'end_date'])"
   ]
  },
  {
   "cell_type": "code",
   "execution_count": 3,
   "metadata": {},
   "outputs": [
    {
     "data": {
      "text/plain": [
       "(1990, 2019)"
      ]
     },
     "execution_count": 3,
     "metadata": {},
     "output_type": "execute_result"
    }
   ],
   "source": [
    "#check step -- do we have full date range?\n",
    "full_target_data['YEAR'].min(), full_target_data['YEAR'].max()"
   ]
  },
  {
   "cell_type": "code",
   "execution_count": 4,
   "metadata": {},
   "outputs": [],
   "source": [
    "#checking what one instance will look like\n",
    "#full_target_data2.loc[full_target_data2['GRID_ID']==36].loc[full_target_data2['month_id']=='2018_11']"
   ]
  },
  {
   "cell_type": "markdown",
   "metadata": {},
   "source": [
    "# Initial Group By"
   ]
  },
  {
   "cell_type": "code",
   "execution_count": 5,
   "metadata": {},
   "outputs": [],
   "source": [
    "#group by gridid and month and take means of fire data\n",
    "#y_bin, y_fire_class_size -- take max\n",
    "#y_fire_count -- count distinct of FIRE ID\n",
    "#y_fire_area prop -- done below with a separate dissolve and join rather than groupby \n",
    "target_data_month = full_target_data2.groupby(['GRID_ID','month_id','YEAR', 'MONTH','COUNTYFP',\n",
    "                                               'NAME', 'GRID_AREA']).agg({'Y_bin':'max', \n",
    "                                                                   'Y_fire_class_size': 'max',\n",
    "                                                                   'FIRE_KEY':'nunique'}).reset_index()\n",
    "target_data_month = target_data_month.rename(columns={'FIRE_KEY': 'Y_fire_count'})"
   ]
  },
  {
   "cell_type": "code",
   "execution_count": 6,
   "metadata": {},
   "outputs": [],
   "source": [
    "#DO NOT RE-RUN UNLESS NEEDED VERY SLOW\n",
    "#make a new DF with just needed columns\n",
    "sub_geo_df = full_target_data2[['month_id', 'GRID_ID', 'geometry']]\n",
    "#sub_geo_df.loc[sub_geo_df['GRID_ID']==36].loc[sub_geo_df['month_id']=='2018_11']\n",
    "\n",
    "#only positive instances\n",
    "sub_geo_df_2 = sub_geo_df.loc[~sub_geo_df['geometry'].isna()]\n",
    "\n",
    "#dissolve\n",
    "sub_geo_dissolve = sub_geo_df_2.dissolve(by=['GRID_ID','month_id'])"
   ]
  },
  {
   "cell_type": "code",
   "execution_count": 7,
   "metadata": {},
   "outputs": [],
   "source": [
    "#reset the index and calcuate area\n",
    "sub_geo_dissolve = sub_geo_dissolve.reset_index()\n",
    "sub_geo_dissolve['Fire_area'] = sub_geo_dissolve['geometry'].area"
   ]
  },
  {
   "cell_type": "code",
   "execution_count": 9,
   "metadata": {},
   "outputs": [],
   "source": [
    "#sub_geo_dissolve = sub_geo_dissolve.drop(columns=['index'])"
   ]
  },
  {
   "cell_type": "code",
   "execution_count": 10,
   "metadata": {},
   "outputs": [
    {
     "data": {
      "text/plain": [
       "Index(['GRID_ID', 'month_id', 'geometry', 'Fire_area'], dtype='object')"
      ]
     },
     "execution_count": 10,
     "metadata": {},
     "output_type": "execute_result"
    }
   ],
   "source": [
    "#check -- do we still have the right columns?\n",
    "sub_geo_dissolve.columns"
   ]
  },
  {
   "cell_type": "code",
   "execution_count": 11,
   "metadata": {},
   "outputs": [],
   "source": [
    "#merge grouped by df with dissolved df\n",
    "target_data_month = target_data_month.merge(sub_geo_dissolve, on=['GRID_ID','month_id'], how='left')\n",
    "#replace NaN in Fire_area with 0\n",
    "target_data_month['Fire_area'] = target_data_month['Fire_area'].fillna(0)"
   ]
  },
  {
   "cell_type": "code",
   "execution_count": 12,
   "metadata": {},
   "outputs": [],
   "source": [
    "#calculate target variable for regression\n",
    "target_data_month['Y_fire_area_prop'] = target_data_month['Fire_area']/target_data_month['GRID_AREA']"
   ]
  },
  {
   "cell_type": "code",
   "execution_count": 13,
   "metadata": {},
   "outputs": [],
   "source": [
    "#drop grid IDs 59, 93 -- no weather data\n",
    "target_data_month_sub = target_data_month.loc[target_data_month['GRID_ID']!=59]\n",
    "target_data_month_df = target_data_month_sub.loc[target_data_month['GRID_ID']!=93]"
   ]
  },
  {
   "cell_type": "code",
   "execution_count": 14,
   "metadata": {},
   "outputs": [],
   "source": [
    "#take in an object formatted as YYYY_MM\n",
    "def add_one_month(month_id_obj):\n",
    "    \n",
    "    #turn this object into a string\n",
    "    #split this and take the element after the '_'\n",
    "    #turn this back into an int\n",
    "    month_int = int(str(month_id_obj).split('_')[1])\n",
    "    year_int = int(str(month_id_obj).split('_')[0])\n",
    "    \n",
    "    #check if the month is decemember -- if so, set to 1 if not, add one\n",
    "    if month_int == 12:\n",
    "        mont = 1\n",
    "        new_month_id = str(year_int+1)+'_'+str(mont)\n",
    "    else:\n",
    "        mont = int(month_int+1)\n",
    "        new_month_id = str(year_int)+'_'+str(mont)\n",
    "        \n",
    "    return new_month_id    \n",
    "    \n",
    "#take in an object formatted as YYYY_MM\n",
    "def sub_one_month(month_id_obj):\n",
    "    \n",
    "    #turn this object into a string\n",
    "    #split this and take the element after the '_'\n",
    "    #turn this back into an int\n",
    "    month_int = int(str(month_id_obj).split('_')[1])\n",
    "    year_int = int(str(month_id_obj).split('_')[0])\n",
    "    \n",
    "    #check if the month is janary -- if so, set to 12 if not, subtract one\n",
    "    if month_int == 1:\n",
    "        mont = 12\n",
    "        new_month_id = str(year_int-1)+'_'+str(mont)\n",
    "    else:\n",
    "        mont = int(month_int-1)\n",
    "        new_month_id = str(year_int)+'_'+str(mont)\n",
    "        \n",
    "    return new_month_id  "
   ]
  },
  {
   "cell_type": "markdown",
   "metadata": {},
   "source": [
    "# Pull in the other simpler data sets (demogs, arson, topo, infr)"
   ]
  },
  {
   "cell_type": "code",
   "execution_count": 15,
   "metadata": {},
   "outputs": [],
   "source": [
    "#topography\n",
    "#no need to shift -- no month ids\n",
    "topo_df = pd.read_csv(os.path.join(data_dir, 'clean_data/topography/grid_elevation.csv'))\n",
    "topo_df['GRID_ID'] = topo_df['GRID_ID'].astype(int)\n",
    "topo_df = topo_df.drop(columns=topo_df.columns[0])"
   ]
  },
  {
   "cell_type": "code",
   "execution_count": 16,
   "metadata": {},
   "outputs": [],
   "source": [
    "#infrastructure\n",
    "#shift month up 1\n",
    "infr_df = pd.read_csv((os.path.join(data_dir, 'clean_data/grid_infrastructure/grid_infrastructure_monthly.csv')))\n",
    "infr_df['GRID_ID'] = infr_df['GRID_ID'].astype(int)\n",
    "infr_df['month_id_old'] = infr_df['month_id']\n",
    "infr_df['month_id'] = infr_df['month_id'].apply(lambda x: add_one_month(x))\n",
    "infr_df = infr_df.drop(columns=infr_df.columns[0])"
   ]
  },
  {
   "cell_type": "code",
   "execution_count": 17,
   "metadata": {},
   "outputs": [],
   "source": [
    "#demographics\n",
    "#shift up a year\n",
    "demographics_df = pd.read_csv((os.path.join(data_dir, 'clean_data/ca_demogs/demogs_arson_master.csv')))\n",
    "demographics_df['YEAR'] = demographics_df['YEAR']+1"
   ]
  },
  {
   "cell_type": "code",
   "execution_count": 18,
   "metadata": {},
   "outputs": [],
   "source": [
    "#pull in built fire features\n",
    "#no need to shift\n",
    "fire_feat = pd.read_csv((os.path.join(data_dir, 'clean_data/engineered_features/adj_fire_final.csv')))\n",
    "fire_feat['GRID_ID'] = fire_feat['GRID_ID'].astype(int)"
   ]
  },
  {
   "cell_type": "markdown",
   "metadata": {},
   "source": [
    "# Merge with these"
   ]
  },
  {
   "cell_type": "code",
   "execution_count": 19,
   "metadata": {},
   "outputs": [],
   "source": [
    "#merge with topo\n",
    "target_data_month_df = target_data_month_df.merge(topo_df, on='GRID_ID', how='left')\n",
    "\n",
    "#merge with infrastructure\n",
    "target_data_month_df = target_data_month_df.merge(infr_df, on=['GRID_ID','month_id'], how='left')\n",
    "\n",
    "#merge with demographics\n",
    "target_data_month_df = target_data_month_df.merge(demographics_df, on=['GRID_ID', 'NAME', 'COUNTYFP', 'YEAR'], how='left')\n",
    "\n",
    "#merge with other fire\n",
    "target_data_month_df = target_data_month_df.merge(fire_feat, on=['GRID_ID','month_id'], how='left')"
   ]
  },
  {
   "cell_type": "code",
   "execution_count": 20,
   "metadata": {},
   "outputs": [
    {
     "name": "stdout",
     "output_type": "stream",
     "text": [
      "(47520, 45) True\n"
     ]
    }
   ],
   "source": [
    "#column number check - SHOULD BE 45\n",
    "print(target_data_month_df.shape,45==target_data_month_df.shape[1])"
   ]
  },
  {
   "cell_type": "markdown",
   "metadata": {},
   "source": [
    "# Pull in and merge with weather"
   ]
  },
  {
   "cell_type": "code",
   "execution_count": 21,
   "metadata": {},
   "outputs": [],
   "source": [
    "#weather \n",
    "era_weather = pd.read_pickle((os.path.join(data_dir, 'clean_data/ERA_weather-data/ERA_weather_data.pkl')))\n",
    "era_weather['GRID_ID'] = era_weather['GRID_ID'].astype(int)\n",
    "\n",
    "\n",
    "#add in a month_id column\n",
    "#need to shift up a month\n",
    "era_weather['month'] = pd.DatetimeIndex(era_weather['date']).month\n",
    "era_weather['YEAR'] = pd.DatetimeIndex(era_weather['date']).year\n",
    "era_weather['month_id'] = era_weather['YEAR'].astype(str)+'_'+era_weather['month'].astype(str)\n",
    "era_weather['month_id_old'] = era_weather['month_id']\n",
    "era_weather['month_id'] = era_weather['month_id'].apply(lambda x: add_one_month(x))\n",
    "era_weather = era_weather.drop(columns=['date','month','YEAR'])"
   ]
  },
  {
   "cell_type": "code",
   "execution_count": 22,
   "metadata": {},
   "outputs": [],
   "source": [
    "#merge weather\n",
    "target_data_month_df = target_data_month_df.merge(era_weather, on=['GRID_ID','month_id'], how='left')"
   ]
  },
  {
   "cell_type": "code",
   "execution_count": 23,
   "metadata": {},
   "outputs": [
    {
     "name": "stdout",
     "output_type": "stream",
     "text": [
      "(47520, 78) True\n"
     ]
    }
   ],
   "source": [
    "#column number check - SHOULD BE 78\n",
    "print(target_data_month_df.shape,78==target_data_month_df.shape[1])"
   ]
  },
  {
   "cell_type": "markdown",
   "metadata": {},
   "source": [
    "# Merge with additional fire and weather features"
   ]
  },
  {
   "cell_type": "code",
   "execution_count": 24,
   "metadata": {},
   "outputs": [],
   "source": [
    "#read in historical features - no need to shift\n",
    "fire_hist = pd.read_pickle((os.path.join(data_dir, 'clean_data/engineered_features/fire_hist_features_no_leakage.pkl')))\n",
    "fire_hist['GRID_ID'] = fire_hist['GRID_ID'].astype(int)\n",
    "fire_hist = fire_hist.rename(columns={'month': 'MONTH', 'year':'YEAR'})"
   ]
  },
  {
   "cell_type": "code",
   "execution_count": 25,
   "metadata": {},
   "outputs": [],
   "source": [
    "#merge with main df\n",
    "target_data_month_df = target_data_month_df.merge(fire_hist, on=['GRID_ID','month_id', 'MONTH', 'YEAR'], how='left')"
   ]
  },
  {
   "cell_type": "code",
   "execution_count": 26,
   "metadata": {},
   "outputs": [],
   "source": [
    "#read in engineered weather - no need to shift\n",
    "#read in historical features - no need to shift\n",
    "weather_hist = pd.read_pickle((os.path.join(data_dir, 'clean_data/engineered_features/historical_weather.pkl')))\n",
    "weather_hist = weather_hist.rename(columns={'month': 'MONTH', 'year':'YEAR'})"
   ]
  },
  {
   "cell_type": "code",
   "execution_count": 27,
   "metadata": {},
   "outputs": [],
   "source": [
    "#merge with main df\n",
    "target_data_month_df = target_data_month_df.merge(weather_hist, on=['GRID_ID', 'MONTH', 'YEAR'], how='left')"
   ]
  },
  {
   "cell_type": "code",
   "execution_count": 28,
   "metadata": {},
   "outputs": [
    {
     "name": "stdout",
     "output_type": "stream",
     "text": [
      "(47520, 190) True\n"
     ]
    }
   ],
   "source": [
    "#column number check - SHOULD BE 190\n",
    "print(target_data_month_df.shape,190==target_data_month_df.shape[1])"
   ]
  },
  {
   "cell_type": "markdown",
   "metadata": {},
   "source": [
    "# New Features from 11/23"
   ]
  },
  {
   "cell_type": "code",
   "execution_count": 29,
   "metadata": {},
   "outputs": [],
   "source": [
    "#this has aggregates by month -- can groupby and take mean\n",
    "no_leakage_df = pd.read_pickle((os.path.join(data_dir, 'clean_data/no_leakage_targets.pkl')))\n",
    "no_leakage_df.loc[no_leakage_df['month_id']=='2008_11'].loc[no_leakage_df['GRID_ID']==12]\n",
    "\n",
    "no_leakage = no_leakage_df.groupby(['month_id','GRID_ID']).max().reset_index()\n",
    "no_leakage['Y_bin_new_fire_month'] = no_leakage['Y_bin_new_fire_month'].astype(int)\n",
    "no_leakage['Y_max_new_fire_size_month'] = no_leakage['Y_max_new_fire_size_month'].astype(int)\n",
    "no_leakage['Y_count_new_fires_month'] = no_leakage['Y_count_new_fires_month'].astype(int)"
   ]
  },
  {
   "cell_type": "code",
   "execution_count": 30,
   "metadata": {},
   "outputs": [],
   "source": [
    "#merge with main df\n",
    "target_data_month_df = target_data_month_df.merge(no_leakage, on=['GRID_ID', 'month_id'], how='left')"
   ]
  },
  {
   "cell_type": "code",
   "execution_count": 31,
   "metadata": {},
   "outputs": [
    {
     "name": "stdout",
     "output_type": "stream",
     "text": [
      "(47520, 194) True\n"
     ]
    }
   ],
   "source": [
    "#column number check - SHOULD BE 190\n",
    "print(target_data_month_df.shape,194==target_data_month_df.shape[1])"
   ]
  },
  {
   "cell_type": "markdown",
   "metadata": {},
   "source": [
    "# Final Clean Up and Send to Pickle"
   ]
  },
  {
   "cell_type": "code",
   "execution_count": 32,
   "metadata": {},
   "outputs": [],
   "source": [
    "#dropping jan 1990 with no weather data from the previous month\n",
    "target_df_final = target_data_month_df.loc[target_data_month_df['month_id']!='1990_1']"
   ]
  },
  {
   "cell_type": "code",
   "execution_count": 33,
   "metadata": {},
   "outputs": [],
   "source": [
    "#re-read in county grid to join with geometry\n",
    "county_grid = gpd.read_file(os.path.join(data_dir, 'clean_data/county_grid/county_grid.dbf'))\n",
    "county_grid['GRID_ID'] = county_grid['GRID_ID'].astype(int)"
   ]
  },
  {
   "cell_type": "code",
   "execution_count": 34,
   "metadata": {},
   "outputs": [],
   "source": [
    "#merge this with the initial df to get geometry\n",
    "target_df_final_geo = target_df_final.merge(county_grid[['GRID_ID','geometry']], on='GRID_ID', how='left')"
   ]
  },
  {
   "cell_type": "code",
   "execution_count": 35,
   "metadata": {},
   "outputs": [
    {
     "name": "stdout",
     "output_type": "stream",
     "text": [
      "(47520, 194) True\n"
     ]
    }
   ],
   "source": [
    "#column number check - SHOULD BE 194\n",
    "print(target_data_month_df.shape,194==target_data_month_df.shape[1])"
   ]
  },
  {
   "cell_type": "code",
   "execution_count": 36,
   "metadata": {},
   "outputs": [],
   "source": [
    "#load the naming dictionary\n",
    "weather_dict_path = os.path.join(data_dir, 'clean_data/ERA_weather-data/ERA_rename_dictionary.pkl')\n",
    "with open(weather_dict_path, 'rb') as handle:\n",
    "    rename_dict = pickle.load(handle)\n",
    "    \n",
    "#rename the columns based on this dictionary\n",
    "target_df_final_geo.rename(columns = rename_dict, inplace = True)    "
   ]
  },
  {
   "cell_type": "code",
   "execution_count": 37,
   "metadata": {},
   "outputs": [],
   "source": [
    "#functions to check if we have _x or _y\n",
    "def find_x(col_name):\n",
    "    if col_name.find('_x') == -1:\n",
    "        return False\n",
    "    else:\n",
    "        return True\n",
    "    \n",
    "def find_y(col_name):\n",
    "    if col_name.find('_y') == -1:\n",
    "        return False\n",
    "    else:\n",
    "        return True"
   ]
  },
  {
   "cell_type": "code",
   "execution_count": 38,
   "metadata": {},
   "outputs": [],
   "source": [
    "#for _x, remove the _x\n",
    "#for _y, drop that column\n",
    "\n",
    "#run through all the column names\n",
    "for j in target_df_final_geo.columns:\n",
    "    #if we have an _x, change the name\n",
    "    if find_x(j):\n",
    "        j_new = j.replace('_x', '')\n",
    "        target_df_final_geo[j_new] = target_df_final_geo[j]\n",
    "        target_df_final_geo = target_df_final_geo.drop(columns=[j])\n",
    "    \n",
    "    #if we have a y, drop this columns\n",
    "    if find_y(j):\n",
    "        target_df_final_geo = target_df_final_geo.drop(columns=[j])"
   ]
  },
  {
   "cell_type": "code",
   "execution_count": 39,
   "metadata": {},
   "outputs": [],
   "source": [
    "#removie duplicates\n",
    "target_df_final_geo = target_df_final_geo.loc[:,~target_df_final_geo.columns.duplicated()]"
   ]
  },
  {
   "cell_type": "code",
   "execution_count": 40,
   "metadata": {},
   "outputs": [
    {
     "name": "stdout",
     "output_type": "stream",
     "text": [
      "190\n",
      "GRID_ID\n",
      "month_id\n",
      "MONTH\n",
      "COUNTYFP\n",
      "NAME\n",
      "GRID_AREA\n",
      "Y_bin\n",
      "Y_fire_count\n",
      "Fire_area\n",
      "elev_mean\n",
      "elev_std\n",
      "elev_media\n",
      "elev_max\n",
      "elev_min\n",
      "elev_range\n",
      "pl_count\n",
      "total_pl_length\n",
      "road_count\n",
      "total_road_length\n",
      "MEDIAN_AGE_TOT\n",
      "MEDIAN_AGE_MALE\n",
      "MEDIAN_AGE_FEM\n",
      "AGEUNDER13_TOT\n",
      "AGE1424_TOT\n",
      "AGE2544_TOT\n",
      "AGE4564_TOT\n",
      "AGE65PLUS_TOT\n",
      "COUNTY_AREA\n",
      "POPDENSITY\n",
      "POPDENSITY_MALE\n",
      "POPDENSITY_FEM\n",
      "Structure Arsons\n",
      "Mobile Arsons\n",
      "Other Arsons\n",
      "Total Arsons\n",
      "Total Arsons Cleared\n",
      "Unemployment\n",
      "medianHHI2018\n",
      "adj_fire_count\n",
      "adj_fire_bcount\n",
      "U_wind_10m_0hrs\n",
      "V_wind_10m_0hrs\n",
      "2m_dewpoint_tmp_0hrs\n",
      "2m_tmp_0hrs\n",
      "leaf_high_veg_0hrs\n",
      "leaf_low_veg_0hrs\n",
      "surface_pressure_0hrs\n",
      "tot_prcp_0hrs\n",
      "U_wind_10m_6hrs\n",
      "V_wind_10m_6hrs\n",
      "2m_dewpoint_tmp_6hrs\n",
      "2m_tmp_6hrs\n",
      "leaf_high_veg_6hrs\n",
      "leaf_low_veg_6hrs\n",
      "surface_pressure_6hrs\n",
      "tot_prcp_6hrs\n",
      "U_wind_10m_12hrs\n",
      "V_wind_10m_12hrs\n",
      "2m_dewpoint_tmp_12hrs\n",
      "2m_tmp_12hrs\n",
      "leaf_high_veg_12hrs\n",
      "leaf_low_veg_12hrs\n",
      "surface_pressure_12hrs\n",
      "tot_prcp_12hrs\n",
      "U_wind_10m_18hrs\n",
      "V_wind_10m_18hrs\n",
      "2m_dewpoint_tmp_18hrs\n",
      "2m_tmp_18hrs\n",
      "leaf_high_veg_18hrs\n",
      "leaf_low_veg_18hrs\n",
      "surface_pressure_18hrs\n",
      "tot_prcp_18hrs\n",
      "hist_bin_1y\n",
      "hist_bin_5y\n",
      "hist_bin_10y\n",
      "hist_cl_size_1y\n",
      "hist_cl_size_5y\n",
      "hist_cl_size_10y\n",
      "hist_fire_area_prop_1m\n",
      "hist_fire_area_prop_1y\n",
      "hist_fire_area_prop_5y\n",
      "hist_fire_area_prop_10y\n",
      "tot_area_fire_prev_1yr\n",
      "hist_bin_no_leak_1m\n",
      "hist_cl_size_no_leak_1m\n",
      "hist_prop_area_fire_1m\n",
      "U_wind_10m_0hrs_1y\n",
      "U_wind_10m_6hrs_1y\n",
      "U_wind_10m_12hrs_1y\n",
      "U_wind_10m_18hrs_1y\n",
      "V_wind_10m_0hrs_1y\n",
      "V_wind_10m_6hrs_1y\n",
      "V_wind_10m_12hrs_1y\n",
      "V_wind_10m_18hrs_1y\n",
      "2m_dewpoint_tmp_0hrs_1y\n",
      "2m_dewpoint_tmp_6hrs_1y\n",
      "2m_dewpoint_tmp_12hrs_1y\n",
      "2m_dewpoint_tmp_18hrs_1y\n",
      "2m_tmp_0hrs_1y\n",
      "2m_tmp_6hrs_1y\n",
      "2m_tmp_12hrs_1y\n",
      "2m_tmp_18hrs_1y\n",
      "leaf_high_veg_0hrs_1y\n",
      "leaf_high_veg_6hrs_1y\n",
      "leaf_high_veg_12hrs_1y\n",
      "leaf_high_veg_18hrs_1y\n",
      "leaf_low_veg_0hrs_1y\n",
      "leaf_low_veg_6hrs_1y\n",
      "leaf_low_veg_12hrs_1y\n",
      "leaf_low_veg_18hrs_1y\n",
      "surface_pressure_0hrs_1y\n",
      "surface_pressure_6hrs_1y\n",
      "surface_pressure_12hrs_1y\n",
      "surface_pressure_18hrs_1y\n",
      "tot_prcp_0hrs_1y\n",
      "tot_prcp_6hrs_1y\n",
      "tot_prcp_12hrs_1y\n",
      "tot_prcp_18hrs_1y\n",
      "U_wind_10m_0hrs_5y\n",
      "U_wind_10m_6hrs_5y\n",
      "U_wind_10m_12hrs_5y\n",
      "U_wind_10m_18hrs_5y\n",
      "V_wind_10m_0hrs_5y\n",
      "V_wind_10m_6hrs_5y\n",
      "V_wind_10m_12hrs_5y\n",
      "V_wind_10m_18hrs_5y\n",
      "2m_dewpoint_tmp_0hrs_5y\n",
      "2m_dewpoint_tmp_6hrs_5y\n",
      "2m_dewpoint_tmp_12hrs_5y\n",
      "2m_dewpoint_tmp_18hrs_5y\n",
      "2m_tmp_0hrs_5y\n",
      "2m_tmp_6hrs_5y\n",
      "2m_tmp_12hrs_5y\n",
      "2m_tmp_18hrs_5y\n",
      "leaf_high_veg_0hrs_5y\n",
      "leaf_high_veg_6hrs_5y\n",
      "leaf_high_veg_12hrs_5y\n",
      "leaf_high_veg_18hrs_5y\n",
      "leaf_low_veg_0hrs_5y\n",
      "leaf_low_veg_6hrs_5y\n",
      "leaf_low_veg_12hrs_5y\n",
      "leaf_low_veg_18hrs_5y\n",
      "surface_pressure_0hrs_5y\n",
      "surface_pressure_6hrs_5y\n",
      "surface_pressure_12hrs_5y\n",
      "surface_pressure_18hrs_5y\n",
      "tot_prcp_0hrs_5y\n",
      "tot_prcp_6hrs_5y\n",
      "tot_prcp_12hrs_5y\n",
      "tot_prcp_18hrs_5y\n",
      "U_wind_10m_0hrs_10y\n",
      "U_wind_10m_6hrs_10y\n",
      "U_wind_10m_12hrs_10y\n",
      "U_wind_10m_18hrs_10y\n",
      "V_wind_10m_0hrs_10y\n",
      "V_wind_10m_6hrs_10y\n",
      "V_wind_10m_12hrs_10y\n",
      "V_wind_10m_18hrs_10y\n",
      "2m_dewpoint_tmp_0hrs_10y\n",
      "2m_dewpoint_tmp_6hrs_10y\n",
      "2m_dewpoint_tmp_12hrs_10y\n",
      "2m_dewpoint_tmp_18hrs_10y\n",
      "2m_tmp_0hrs_10y\n",
      "2m_tmp_6hrs_10y\n",
      "2m_tmp_12hrs_10y\n",
      "2m_tmp_18hrs_10y\n",
      "leaf_high_veg_0hrs_10y\n",
      "leaf_high_veg_6hrs_10y\n",
      "leaf_high_veg_12hrs_10y\n",
      "leaf_high_veg_18hrs_10y\n",
      "leaf_low_veg_0hrs_10y\n",
      "leaf_low_veg_6hrs_10y\n",
      "leaf_low_veg_12hrs_10y\n",
      "leaf_low_veg_18hrs_10y\n",
      "surface_pressure_0hrs_10y\n",
      "surface_pressure_6hrs_10y\n",
      "surface_pressure_12hrs_10y\n",
      "surface_pressure_18hrs_10y\n",
      "tot_prcp_0hrs_10y\n",
      "tot_prcp_6hrs_10y\n",
      "tot_prcp_12hrs_10y\n",
      "tot_prcp_18hrs_10y\n",
      "Y_bin_new_fire_month\n",
      "Y_count_new_fires_month\n",
      "Y_max_new_fire_size_month\n",
      "YEAR\n",
      "Y_fire_class_size\n",
      "geometry\n",
      "Y_fire_area_prop\n",
      "month_id_old\n"
     ]
    }
   ],
   "source": [
    "#check we have the correct columns - SHOULD BE 190\n",
    "print(target_df_final_geo.columns.size)\n",
    "for k in target_df_final_geo.columns:\n",
    "    print(k)"
   ]
  },
  {
   "cell_type": "code",
   "execution_count": 42,
   "metadata": {},
   "outputs": [
    {
     "name": "stdout",
     "output_type": "stream",
     "text": [
      "# of grids: 132\n",
      "obs per grid: 359.0\n"
     ]
    },
    {
     "data": {
      "text/plain": [
       "<BarContainer object of 132 artists>"
      ]
     },
     "execution_count": 42,
     "metadata": {},
     "output_type": "execute_result"
    },
    {
     "data": {
      "image/png": "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\n",
      "text/plain": [
       "<Figure size 432x288 with 1 Axes>"
      ]
     },
     "metadata": {
      "needs_background": "light"
     },
     "output_type": "display_data"
    }
   ],
   "source": [
    "#check we have the number of grids and observations per grid\n",
    "grid_list = target_df_final_geo['GRID_ID'].unique()\n",
    "print(\"# of grids:\",len(grid_list))\n",
    "print(\"obs per grid:\",target_df_final_geo.shape[0]/len(grid_list))\n",
    "\n",
    "plt.bar(grid_list, target_df_final_geo.groupby(['GRID_ID'])['GRID_ID'].count())"
   ]
  },
  {
   "cell_type": "code",
   "execution_count": 48,
   "metadata": {},
   "outputs": [],
   "source": [
    "#send to pkl files -- remember to rename the file and update date\n",
    "#need to split to allow to push to git\n",
    "n_rows = np.round(len(target_df_final_geo)/2,0).astype(int)\n",
    "target_df_final_geo.iloc[:n_rows].to_pickle(os.path.join(data_dir, 'clean_data/target_df_final_1123_newtargets_1.pkl'))\n",
    "target_df_final_geo.iloc[n_rows:].to_pickle(os.path.join(data_dir, 'clean_data/target_df_final_1123_newtargets_2.pkl'))"
   ]
  }
 ],
 "metadata": {
  "kernelspec": {
   "display_name": "Python 3",
   "language": "python",
   "name": "python3"
  },
  "language_info": {
   "codemirror_mode": {
    "name": "ipython",
    "version": 3
   },
   "file_extension": ".py",
   "mimetype": "text/x-python",
   "name": "python",
   "nbconvert_exporter": "python",
   "pygments_lexer": "ipython3",
   "version": "3.8.6"
  }
 },
 "nbformat": 4,
 "nbformat_minor": 4
}
